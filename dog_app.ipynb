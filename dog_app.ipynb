{
 "cells": [
  {
   "cell_type": "markdown",
   "metadata": {},
   "source": [
    "# Artificial Intelligence Nanodegree\n",
    "\n",
    "## Convolutional Neural Networks\n",
    "\n",
    "## Project: Write an Algorithm for a Dog Identification App \n",
    "\n",
    "---\n",
    "\n",
    "In this notebook, some template code has already been provided for you, and you will need to implement additional functionality to successfully complete this project. You will not need to modify the included code beyond what is requested. Sections that begin with **'(IMPLEMENTATION)'** in the header indicate that the following block of code will require additional functionality which you must provide. Instructions will be provided for each section, and the specifics of the implementation are marked in the code block with a 'TODO' statement. Please be sure to read the instructions carefully! \n",
    "\n",
    "> **Note**: Once you have completed all of the code implementations, you need to finalize your work by exporting the iPython Notebook as an HTML document. Before exporting the notebook to html, all of the code cells need to have been run so that reviewers can see the final implementation and output. You can then export the notebook by using the menu above and navigating to  \\n\",\n",
    "    \"**File -> Download as -> HTML (.html)**. Include the finished document along with this notebook as your submission.\n",
    "\n",
    "In addition to implementing code, there will be questions that you must answer which relate to the project and your implementation. Each section where you will answer a question is preceded by a **'Question X'** header. Carefully read each question and provide thorough answers in the following text boxes that begin with **'Answer:'**. Your project submission will be evaluated based on your answers to each of the questions and the implementation you provide.\n",
    "\n",
    ">**Note:** Code and Markdown cells can be executed using the **Shift + Enter** keyboard shortcut.  Markdown cells can be edited by double-clicking the cell to enter edit mode.\n",
    "\n",
    "The rubric contains _optional_ \"Stand Out Suggestions\" for enhancing the project beyond the minimum requirements. If you decide to pursue the \"Stand Out Suggestions\", you should include the code in this IPython notebook.\n",
    "\n",
    "\n",
    "\n",
    "---\n",
    "### Why We're Here \n",
    "\n",
    "In this notebook, you will make the first steps towards developing an algorithm that could be used as part of a mobile or web app.  At the end of this project, your code will accept any user-supplied image as input.  If a dog is detected in the image, it will provide an estimate of the dog's breed.  If a human is detected, it will provide an estimate of the dog breed that is most resembling.  The image below displays potential sample output of your finished project (... but we expect that each student's algorithm will behave differently!). \n",
    "\n",
    "![Sample Dog Output](images/sample_dog_output.png)\n",
    "\n",
    "In this real-world setting, you will need to piece together a series of models to perform different tasks; for instance, the algorithm that detects humans in an image will be different from the CNN that infers dog breed.  There are many points of possible failure, and no perfect algorithm exists.  Your imperfect solution will nonetheless create a fun user experience!\n",
    "\n",
    "### The Road Ahead\n",
    "\n",
    "We break the notebook into separate steps.  Feel free to use the links below to navigate the notebook.\n",
    "\n",
    "* [Step 0](#step0): Import Datasets\n",
    "* [Step 1](#step1): Detect Humans\n",
    "* [Step 2](#step2): Detect Dogs\n",
    "* [Step 3](#step3): Create a CNN to Classify Dog Breeds (from Scratch)\n",
    "* [Step 4](#step4): Use a CNN to Classify Dog Breeds (using Transfer Learning)\n",
    "* [Step 5](#step5): Create a CNN to Classify Dog Breeds (using Transfer Learning)\n",
    "* [Step 6](#step6): Write your Algorithm\n",
    "* [Step 7](#step7): Test Your Algorithm\n",
    "\n",
    "---\n",
    "<a id='step0'></a>\n",
    "## Step 0: Import Datasets\n",
    "\n",
    "### Import Dog Dataset\n",
    "\n",
    "In the code cell below, we import a dataset of dog images.  We populate a few variables through the use of the `load_files` function from the scikit-learn library:\n",
    "- `train_files`, `valid_files`, `test_files` - numpy arrays containing file paths to images\n",
    "- `train_targets`, `valid_targets`, `test_targets` - numpy arrays containing onehot-encoded classification labels \n",
    "- `dog_names` - list of string-valued dog breed names for translating labels"
   ]
  },
  {
   "cell_type": "code",
   "execution_count": 1,
   "metadata": {},
   "outputs": [
    {
     "name": "stderr",
     "output_type": "stream",
     "text": [
      "Using TensorFlow backend.\n"
     ]
    },
    {
     "name": "stdout",
     "output_type": "stream",
     "text": [
      "There are 133 total dog categories.\n",
      "There are 8351 total dog images.\n",
      "\n",
      "There are 6680 training dog images.\n",
      "There are 835 validation dog images.\n",
      "There are 836 test dog images.\n"
     ]
    }
   ],
   "source": [
    "from sklearn.datasets import load_files       \n",
    "from keras.utils import np_utils\n",
    "import numpy as np\n",
    "from glob import glob\n",
    "\n",
    "# define function to load train, test, and validation datasets\n",
    "def load_dataset(path):\n",
    "    data = load_files(path)\n",
    "    dog_files = np.array(data['filenames'])\n",
    "    dog_targets = np_utils.to_categorical(np.array(data['target']), 133)\n",
    "    return dog_files, dog_targets\n",
    "\n",
    "# load train, test, and validation datasets\n",
    "train_files, train_targets = load_dataset('dogImages/train')\n",
    "valid_files, valid_targets = load_dataset('dogImages/valid')\n",
    "test_files, test_targets = load_dataset('dogImages/test')\n",
    "\n",
    "# load list of dog names\n",
    "dog_names = [item[20:-1] for item in sorted(glob(\"dogImages/train/*/\"))]\n",
    "\n",
    "# print statistics about the dataset\n",
    "print('There are %d total dog categories.' % len(dog_names))\n",
    "print('There are %s total dog images.\\n' % len(np.hstack([train_files, valid_files, test_files])))\n",
    "print('There are %d training dog images.' % len(train_files))\n",
    "print('There are %d validation dog images.' % len(valid_files))\n",
    "print('There are %d test dog images.'% len(test_files))"
   ]
  },
  {
   "cell_type": "markdown",
   "metadata": {},
   "source": [
    "### Import Human Dataset\n",
    "\n",
    "In the code cell below, we import a dataset of human images, where the file paths are stored in the numpy array `human_files`."
   ]
  },
  {
   "cell_type": "code",
   "execution_count": 2,
   "metadata": {},
   "outputs": [
    {
     "name": "stdout",
     "output_type": "stream",
     "text": [
      "There are 13234 total human images.\n"
     ]
    }
   ],
   "source": [
    "import random\n",
    "random.seed(8675309)\n",
    "\n",
    "# load filenames in shuffled human dataset\n",
    "human_files = np.array(glob(\"lfw/*/*\"))\n",
    "random.shuffle(human_files)\n",
    "\n",
    "# print statistics about the dataset\n",
    "print('There are %d total human images.' % len(human_files))"
   ]
  },
  {
   "cell_type": "markdown",
   "metadata": {},
   "source": [
    "---\n",
    "<a id='step1'></a>\n",
    "## Step 1: Detect Humans\n",
    "\n",
    "We use OpenCV's implementation of [Haar feature-based cascade classifiers](http://docs.opencv.org/trunk/d7/d8b/tutorial_py_face_detection.html) to detect human faces in images.  OpenCV provides many pre-trained face detectors, stored as XML files on [github](https://github.com/opencv/opencv/tree/master/data/haarcascades).  We have downloaded one of these detectors and stored it in the `haarcascades` directory.\n",
    "\n",
    "In the next code cell, we demonstrate how to use this detector to find human faces in a sample image."
   ]
  },
  {
   "cell_type": "code",
   "execution_count": 5,
   "metadata": {},
   "outputs": [
    {
     "name": "stdout",
     "output_type": "stream",
     "text": [
      "Number of faces detected: 1\n"
     ]
    },
    {
     "data": {
      "image/png": "[encoded data removed]",
      "text/plain": [
       "<matplotlib.figure.Figure at 0x29f88f7df98>"
      ]
     },
     "metadata": {},
     "output_type": "display_data"
    }
   ],
   "source": [
    "import cv2                \n",
    "import matplotlib.pyplot as plt                        \n",
    "%matplotlib inline                               \n",
    "\n",
    "# extract pre-trained face detector\n",
    "face_cascade = cv2.CascadeClassifier('haarcascades/haarcascade_frontalface_alt.xml')\n",
    "\n",
    "# load color (BGR) image\n",
    "img = cv2.imread(human_files[5])\n",
    "# convert BGR image to grayscale\n",
    "gray = cv2.cvtColor(img, cv2.COLOR_BGR2GRAY)\n",
    "\n",
    "# find faces in image\n",
    "faces = face_cascade.detectMultiScale(gray)\n",
    "\n",
    "# print number of faces detected in the image\n",
    "print('Number of faces detected:', len(faces))\n",
    "\n",
    "# get bounding box for each detected face\n",
    "for (x,y,w,h) in faces:\n",
    "    # add bounding box to color image\n",
    "    cv2.rectangle(img,(x,y),(x+w,y+h),(255,0,0),2)\n",
    "    \n",
    "# convert BGR image to RGB for plotting\n",
    "cv_rgb = cv2.cvtColor(img, cv2.COLOR_BGR2RGB)\n",
    "\n",
    "# display the image, along with bounding box\n",
    "plt.imshow(cv_rgb)\n",
    "plt.show()"
   ]
  },
  {
   "cell_type": "markdown",
   "metadata": {},
   "source": [
    "Before using any of the face detectors, it is standard procedure to convert the images to grayscale.  The `detectMultiScale` function executes the classifier stored in `face_cascade` and takes the grayscale image as a parameter.  \n",
    "\n",
    "In the above code, `faces` is a numpy array of detected faces, where each row corresponds to a detected face.  Each detected face is a 1D array with four entries that specifies the bounding box of the detected face.  The first two entries in the array (extracted in the above code as `x` and `y`) specify the horizontal and vertical positions of the top left corner of the bounding box.  The last two entries in the array (extracted here as `w` and `h`) specify the width and height of the box.\n",
    "\n",
    "### Write a Human Face Detector\n",
    "\n",
    "We can use this procedure to write a function that returns `True` if a human face is detected in an image and `False` otherwise.  This function, aptly named `face_detector`, takes a string-valued file path to an image as input and appears in the code block below."
   ]
  },
  {
   "cell_type": "code",
   "execution_count": 6,
   "metadata": {
    "collapsed": true
   },
   "outputs": [],
   "source": [
    "# returns \"True\" if face is detected in image stored at img_path\n",
    "def face_detector(img_path):\n",
    "    img = cv2.imread(img_path)\n",
    "    gray = cv2.cvtColor(img, cv2.COLOR_BGR2GRAY)\n",
    "    faces = face_cascade.detectMultiScale(gray)\n",
    "    return len(faces) > 0"
   ]
  },
  {
   "cell_type": "markdown",
   "metadata": {},
   "source": [
    "### (IMPLEMENTATION) Assess the Human Face Detector\n",
    "\n",
    "__Question 1:__ Use the code cell below to test the performance of the `face_detector` function.  \n",
    "- What percentage of the first 100 images in `human_files` have a detected human face?  \n",
    "- What percentage of the first 100 images in `dog_files` have a detected human face? \n",
    "\n",
    "Ideally, we would like 100% of human images with a detected face and 0% of dog images with a detected face.  You will see that our algorithm falls short of this goal, but still gives acceptable performance.  We extract the file paths for the first 100 images from each of the datasets and store them in the numpy arrays `human_files_short` and `dog_files_short`.\n",
    "\n",
    "__Answer:__ \n",
    "Human faces were detected on 97% of humans and 11% of dog picures."
   ]
  },
  {
   "cell_type": "code",
   "execution_count": 13,
   "metadata": {},
   "outputs": [],
   "source": [
    "human_files_short = human_files[:100]\n",
    "dog_files_short = train_files[:100]\n",
    "# Do NOT modify the code above this line.\n",
    "\n",
    "## TODO: Test the performance of the face_detector algorithm \n",
    "## on the images in human_files_short and dog_files_short.\n",
    "num_human_faces_detected_on_humans = sum([face_detector(img) for img in human_files_short])\n",
    "num_human_faces_detected_on_dogs = sum([face_detector(img) for img in dog_files_short])"
   ]
  },
  {
   "cell_type": "code",
   "execution_count": 14,
   "metadata": {},
   "outputs": [
    {
     "data": {
      "text/plain": [
       "97"
      ]
     },
     "execution_count": 14,
     "metadata": {},
     "output_type": "execute_result"
    }
   ],
   "source": [
    "num_human_faces_detected_on_humans"
   ]
  },
  {
   "cell_type": "code",
   "execution_count": 15,
   "metadata": {},
   "outputs": [
    {
     "data": {
      "text/plain": [
       "11"
      ]
     },
     "execution_count": 15,
     "metadata": {},
     "output_type": "execute_result"
    }
   ],
   "source": [
    "num_human_faces_detected_on_dogs"
   ]
  },
  {
   "cell_type": "markdown",
   "metadata": {},
   "source": [
    "__Question 2:__ This algorithmic choice necessitates that we communicate to the user that we accept human images only when they provide a clear view of a face (otherwise, we risk having unneccessarily frustrated users!). In your opinion, is this a reasonable expectation to pose on the user? If not, can you think of a way to detect humans in images that does not necessitate an image with a clearly presented face?\n",
    "\n",
    "__Answer:__\n",
    "\n",
    "* Overall: Yes. Humans generally wear clothes and their 'looks' are mostly determined by their face and hair. As such, it is perfectly reasonable to expect users of a 'what dog breed do you look like' app to submit only pictures that contain a face.\n",
    "* Nevertheless clothes, can also be used in determining whether a picture contains a human: Most fabric patterns, and some colors certainly don't appear in any dog and can thus be used for discrimination.\n",
    "\n",
    "We suggest the face detector from OpenCV as a potential way to detect human images in your algorithm, but you are free to explore other approaches, especially approaches that make use of deep learning :).  Please use the code cell below to design and test your own face detection algorithm.  If you decide to pursue this _optional_ task, report performance on each of the datasets."
   ]
  },
  {
   "cell_type": "code",
   "execution_count": null,
   "metadata": {
    "collapsed": true
   },
   "outputs": [],
   "source": [
    "## (Optional) TODO: Report the performance of another  \n",
    "## face detection algorithm on the LFW dataset\n",
    "### Feel free to use as many code cells as needed."
   ]
  },
  {
   "cell_type": "markdown",
   "metadata": {},
   "source": [
    "---\n",
    "<a id='step2'></a>\n",
    "## Step 2: Detect Dogs\n",
    "\n",
    "In this section, we use a pre-trained [ResNet-50](http://ethereon.github.io/netscope/#/gist/db945b393d40bfa26006) model to detect dogs in images.  Our first line of code downloads the ResNet-50 model, along with weights that have been trained on [ImageNet](http://www.image-net.org/), a very large, very popular dataset used for image classification and other vision tasks.  ImageNet contains over 10 million URLs, each linking to an image containing an object from one of [1000 categories](https://gist.github.com/yrevar/942d3a0ac09ec9e5eb3a).  Given an image, this pre-trained ResNet-50 model returns a prediction (derived from the available categories in ImageNet) for the object that is contained in the image."
   ]
  },
  {
   "cell_type": "code",
   "execution_count": 16,
   "metadata": {},
   "outputs": [
    {
     "name": "stdout",
     "output_type": "stream",
     "text": [
      "Downloading data from https://github.com/fchollet/deep-learning-models/releases/download/v0.2/resnet50_weights_tf_dim_ordering_tf_kernels.h5\n",
      "102834176/102853048 [============================>.] - ETA: 0s"
     ]
    }
   ],
   "source": [
    "from keras.applications.resnet50 import ResNet50\n",
    "\n",
    "# define ResNet50 model\n",
    "ResNet50_model = ResNet50(weights='imagenet')"
   ]
  },
  {
   "cell_type": "markdown",
   "metadata": {},
   "source": [
    "### Pre-process the Data\n",
    "\n",
    "When using TensorFlow as backend, Keras CNNs require a 4D array (which we'll also refer to as a 4D tensor) as input, with shape\n",
    "\n",
    "$$\n",
    "(\\text{nb_samples}, \\text{rows}, \\text{columns}, \\text{channels}),\n",
    "$$\n",
    "\n",
    "where `nb_samples` corresponds to the total number of images (or samples), and `rows`, `columns`, and `channels` correspond to the number of rows, columns, and channels for each image, respectively.  \n",
    "\n",
    "The `path_to_tensor` function below takes a string-valued file path to a color image as input and returns a 4D tensor suitable for supplying to a Keras CNN.  The function first loads the image and resizes it to a square image that is $224 \\times 224$ pixels.  Next, the image is converted to an array, which is then resized to a 4D tensor.  In this case, since we are working with color images, each image has three channels.  Likewise, since we are processing a single image (or sample), the returned tensor will always have shape\n",
    "\n",
    "$$\n",
    "(1, 224, 224, 3).\n",
    "$$\n",
    "\n",
    "The `paths_to_tensor` function takes a numpy array of string-valued image paths as input and returns a 4D tensor with shape \n",
    "\n",
    "$$\n",
    "(\\text{nb_samples}, 224, 224, 3).\n",
    "$$\n",
    "\n",
    "Here, `nb_samples` is the number of samples, or number of images, in the supplied array of image paths.  It is best to think of `nb_samples` as the number of 3D tensors (where each 3D tensor corresponds to a different image) in your dataset!"
   ]
  },
  {
   "cell_type": "code",
   "execution_count": 18,
   "metadata": {
    "collapsed": true
   },
   "outputs": [],
   "source": [
    "from keras.preprocessing import image                  \n",
    "from tqdm import tqdm\n",
    "\n",
    "def path_to_tensor(img_path):\n",
    "    # loads RGB image as PIL.Image.Image type\n",
    "    img = image.load_img(img_path, target_size=(224, 224))\n",
    "    # convert PIL.Image.Image type to 3D tensor with shape (224, 224, 3)\n",
    "    x = image.img_to_array(img)\n",
    "    # convert 3D tensor to 4D tensor with shape (1, 224, 224, 3) and return 4D tensor\n",
    "    return np.expand_dims(x, axis=0)\n",
    "\n",
    "def paths_to_tensor(img_paths):\n",
    "    list_of_tensors = [path_to_tensor(img_path) for img_path in tqdm(img_paths)]\n",
    "    return np.vstack(list_of_tensors)"
   ]
  },
  {
   "cell_type": "markdown",
   "metadata": {},
   "source": [
    "### Making Predictions with ResNet-50\n",
    "\n",
    "Getting the 4D tensor ready for ResNet-50, and for any other pre-trained model in Keras, requires some additional processing.  First, the RGB image is converted to BGR by reordering the channels.  All pre-trained models have the additional normalization step that the mean pixel (expressed in RGB as $[103.939, 116.779, 123.68]$ and calculated from all pixels in all images in ImageNet) must be subtracted from every pixel in each image.  This is implemented in the imported function `preprocess_input`.  If you're curious, you can check the code for `preprocess_input` [here](https://github.com/fchollet/keras/blob/master/keras/applications/imagenet_utils.py).\n",
    "\n",
    "Now that we have a way to format our image for supplying to ResNet-50, we are now ready to use the model to extract the predictions.  This is accomplished with the `predict` method, which returns an array whose $i$-th entry is the model's predicted probability that the image belongs to the $i$-th ImageNet category.  This is implemented in the `ResNet50_predict_labels` function below.\n",
    "\n",
    "By taking the argmax of the predicted probability vector, we obtain an integer corresponding to the model's predicted object class, which we can identify with an object category through the use of this [dictionary](https://gist.github.com/yrevar/942d3a0ac09ec9e5eb3a). "
   ]
  },
  {
   "cell_type": "code",
   "execution_count": 19,
   "metadata": {
    "collapsed": true
   },
   "outputs": [],
   "source": [
    "from keras.applications.resnet50 import preprocess_input, decode_predictions\n",
    "\n",
    "def ResNet50_predict_labels(img_path):\n",
    "    # returns prediction vector for image located at img_path\n",
    "    img = preprocess_input(path_to_tensor(img_path))\n",
    "    return np.argmax(ResNet50_model.predict(img))"
   ]
  },
  {
   "cell_type": "markdown",
   "metadata": {},
   "source": [
    "### Write a Dog Detector\n",
    "\n",
    "While looking at the [dictionary](https://gist.github.com/yrevar/942d3a0ac09ec9e5eb3a), you will notice that the categories corresponding to dogs appear in an uninterrupted sequence and correspond to dictionary keys 151-268, inclusive, to include all categories from `'Chihuahua'` to `'Mexican hairless'`.  Thus, in order to check to see if an image is predicted to contain a dog by the pre-trained ResNet-50 model, we need only check if the `ResNet50_predict_labels` function above returns a value between 151 and 268 (inclusive).\n",
    "\n",
    "We use these ideas to complete the `dog_detector` function below, which returns `True` if a dog is detected in an image (and `False` if not)."
   ]
  },
  {
   "cell_type": "code",
   "execution_count": 20,
   "metadata": {
    "collapsed": true
   },
   "outputs": [],
   "source": [
    "### returns \"True\" if a dog is detected in the image stored at img_path\n",
    "def dog_detector(img_path):\n",
    "    prediction = ResNet50_predict_labels(img_path)\n",
    "    return ((prediction <= 268) & (prediction >= 151)) "
   ]
  },
  {
   "cell_type": "markdown",
   "metadata": {},
   "source": [
    "### (IMPLEMENTATION) Assess the Dog Detector\n",
    "\n",
    "__Question 3:__ Use the code cell below to test the performance of your `dog_detector` function.  \n",
    "- What percentage of the images in `human_files_short` have a detected dog?  \n",
    "- What percentage of the images in `dog_files_short` have a detected dog?\n",
    "\n",
    "__Answer:__ \n",
    "See cells directly below: 1/100 human was misclassified as a dog, all dogs were correctly detected as dogs."
   ]
  },
  {
   "cell_type": "code",
   "execution_count": 21,
   "metadata": {
    "collapsed": true
   },
   "outputs": [],
   "source": [
    "### TODO: Test the performance of the dog_detector function\n",
    "### on the images in human_files_short and dog_files_short.\n",
    "num_dogs_detected_in_humans = sum([dog_detector(img) for img in human_files_short])\n",
    "num_dogs_detected_in_dogs = sum([dog_detector(img) for img in dog_files_short])"
   ]
  },
  {
   "cell_type": "code",
   "execution_count": 22,
   "metadata": {},
   "outputs": [
    {
     "data": {
      "text/plain": [
       "1"
      ]
     },
     "execution_count": 22,
     "metadata": {},
     "output_type": "execute_result"
    }
   ],
   "source": [
    "num_dogs_detected_in_humans"
   ]
  },
  {
   "cell_type": "code",
   "execution_count": 23,
   "metadata": {},
   "outputs": [
    {
     "data": {
      "text/plain": [
       "100"
      ]
     },
     "execution_count": 23,
     "metadata": {},
     "output_type": "execute_result"
    }
   ],
   "source": [
    "num_dogs_detected_in_dogs"
   ]
  },
  {
   "cell_type": "markdown",
   "metadata": {},
   "source": [
    "---\n",
    "<a id='step3'></a>\n",
    "## Step 3: Create a CNN to Classify Dog Breeds (from Scratch)\n",
    "\n",
    "Now that we have functions for detecting humans and dogs in images, we need a way to predict breed from images.  In this step, you will create a CNN that classifies dog breeds.  You must create your CNN _from scratch_ (so, you can't use transfer learning _yet_!), and you must attain a test accuracy of at least 1%.  In Step 5 of this notebook, you will have the opportunity to use transfer learning to create a CNN that attains greatly improved accuracy.\n",
    "\n",
    "Be careful with adding too many trainable layers!  More parameters means longer training, which means you are more likely to need a GPU to accelerate the training process.  Thankfully, Keras provides a handy estimate of the time that each epoch is likely to take; you can extrapolate this estimate to figure out how long it will take for your algorithm to train. \n",
    "\n",
    "We mention that the task of assigning breed to dogs from images is considered exceptionally challenging.  To see why, consider that *even a human* would have great difficulty in distinguishing between a Brittany and a Welsh Springer Spaniel.  \n",
    "\n",
    "Brittany | Welsh Springer Spaniel\n",
    "- | - \n",
    "<img src=\"images/Brittany_02625.jpg\" width=\"100\"> | <img src=\"images/Welsh_springer_spaniel_08203.jpg\" width=\"200\">\n",
    "\n",
    "It is not difficult to find other dog breed pairs with minimal inter-class variation (for instance, Curly-Coated Retrievers and American Water Spaniels).  \n",
    "\n",
    "Curly-Coated Retriever | American Water Spaniel\n",
    "- | -\n",
    "<img src=\"images/Curly-coated_retriever_03896.jpg\" width=\"200\"> | <img src=\"images/American_water_spaniel_00648.jpg\" width=\"200\">\n",
    "\n",
    "\n",
    "Likewise, recall that labradors come in yellow, chocolate, and black.  Your vision-based algorithm will have to conquer this high intra-class variation to determine how to classify all of these different shades as the same breed.  \n",
    "\n",
    "Yellow Labrador | Chocolate Labrador | Black Labrador\n",
    "- | -\n",
    "<img src=\"images/Labrador_retriever_06457.jpg\" width=\"150\"> | <img src=\"images/Labrador_retriever_06455.jpg\" width=\"240\"> | <img src=\"images/Labrador_retriever_06449.jpg\" width=\"220\">\n",
    "\n",
    "We also mention that random chance presents an exceptionally low bar: setting aside the fact that the classes are slightly imabalanced, a random guess will provide a correct answer roughly 1 in 133 times, which corresponds to an accuracy of less than 1%.  \n",
    "\n",
    "Remember that the practice is far ahead of the theory in deep learning.  Experiment with many different architectures, and trust your intuition.  And, of course, have fun! \n",
    "\n",
    "### Pre-process the Data\n",
    "\n",
    "We rescale the images by dividing every pixel in every image by 255."
   ]
  },
  {
   "cell_type": "code",
   "execution_count": 24,
   "metadata": {},
   "outputs": [
    {
     "name": "stderr",
     "output_type": "stream",
     "text": [
      "100%|█████████████████████████████████████████████| 6680/6680 [00:59<00:00, 111.71it/s]\n",
      "100%|███████████████████████████████████████████████| 835/835 [00:07<00:00, 114.23it/s]\n",
      "100%|███████████████████████████████████████████████| 836/836 [00:07<00:00, 116.51it/s]\n"
     ]
    }
   ],
   "source": [
    "from PIL import ImageFile                            \n",
    "ImageFile.LOAD_TRUNCATED_IMAGES = True                 \n",
    "\n",
    "# pre-process the data for Keras\n",
    "train_tensors = paths_to_tensor(train_files).astype('float32')/255\n",
    "valid_tensors = paths_to_tensor(valid_files).astype('float32')/255\n",
    "test_tensors = paths_to_tensor(test_files).astype('float32')/255"
   ]
  },
  {
   "cell_type": "markdown",
   "metadata": {},
   "source": [
    "### (IMPLEMENTATION) Model Architecture\n",
    "\n",
    "Create a CNN to classify dog breed.  At the end of your code cell block, summarize the layers of your model by executing the line:\n",
    "    \n",
    "        model.summary()\n",
    "\n",
    "We have imported some Python modules to get you started, but feel free to import as many modules as you need.  If you end up getting stuck, here's a hint that specifies a model that trains relatively fast on CPU and attains >1% test accuracy in 5 epochs:\n",
    "\n",
    "![Sample CNN](images/sample_cnn.png)\n",
    "           \n",
    "__Question 4:__ Outline the steps you took to get to your final CNN architecture and your reasoning at each step.  If you chose to use the hinted architecture above, describe why you think that CNN architecture should work well for the image classification task.\n",
    "\n",
    "__Answer:__ \n",
    "* I started out with the Model architecture given above.\n",
    "* Then, first, I played with the `batch_size` in order to get full utilization of my GPU (I'm running on my own machine) - at the predefined step-size of 20, I found that during training my GPU was memory-limited rather than compute-limited. Setting the `batch_size` to 256 sped up all further training by 40% - 50%.\n",
    "* Second, I tried different optimizers on this architecture, but the standard RMS-Prop, actually seemed to yield the best results. For this I plotted the learning curve, in terms of both loss and accuracy (see below)\n",
    "* Now I finally started playing with the architecture:\n",
    "    * I noticed that there was an overfitting problem: Training loss/accuracy keeps improving, but valuation loss stalled after about 10 - 15 iterations. I therefore added Dropout layers after the pooling layers to regularize the net.\n",
    "    * Adding another convolutional layer with 128 filters led to overfitting, thus I got rid of it again.\n",
    "    * Adding a secnod Max-Pooling Layer (each time) greatly improved performance.\n",
    "    * We still observe some overfitting, but at almost 7 percent performance after 50 iterations, let's move on to the next part."
   ]
  },
  {
   "cell_type": "code",
   "execution_count": 129,
   "metadata": {},
   "outputs": [
    {
     "name": "stdout",
     "output_type": "stream",
     "text": [
      "_________________________________________________________________\n",
      "Layer (type)                 Output Shape              Param #   \n",
      "=================================================================\n",
      "conv2d_58 (Conv2D)           (None, 223, 223, 16)      208       \n",
      "_________________________________________________________________\n",
      "max_pooling2d_53 (MaxPooling (None, 111, 111, 16)      0         \n",
      "_________________________________________________________________\n",
      "max_pooling2d_54 (MaxPooling (None, 55, 55, 16)        0         \n",
      "_________________________________________________________________\n",
      "dropout_14 (Dropout)         (None, 55, 55, 16)        0         \n",
      "_________________________________________________________________\n",
      "conv2d_59 (Conv2D)           (None, 54, 54, 32)        2080      \n",
      "_________________________________________________________________\n",
      "max_pooling2d_55 (MaxPooling (None, 27, 27, 32)        0         \n",
      "_________________________________________________________________\n",
      "dropout_15 (Dropout)         (None, 27, 27, 32)        0         \n",
      "_________________________________________________________________\n",
      "conv2d_60 (Conv2D)           (None, 26, 26, 64)        8256      \n",
      "_________________________________________________________________\n",
      "max_pooling2d_56 (MaxPooling (None, 13, 13, 64)        0         \n",
      "_________________________________________________________________\n",
      "max_pooling2d_57 (MaxPooling (None, 6, 6, 64)          0         \n",
      "_________________________________________________________________\n",
      "dropout_16 (Dropout)         (None, 6, 6, 64)          0         \n",
      "_________________________________________________________________\n",
      "global_average_pooling2d_13  (None, 64)                0         \n",
      "_________________________________________________________________\n",
      "dense_12 (Dense)             (None, 133)               8645      \n",
      "=================================================================\n",
      "Total params: 19,189\n",
      "Trainable params: 19,189\n",
      "Non-trainable params: 0\n",
      "_________________________________________________________________\n"
     ]
    }
   ],
   "source": [
    "from keras.layers import Conv2D, MaxPooling2D, GlobalAveragePooling2D\n",
    "from keras.layers import Dropout, Flatten, Dense\n",
    "from keras.models import Sequential\n",
    "\n",
    "model = Sequential()\n",
    "\n",
    "model.add(Conv2D(16, 2, strides = 1, padding = 'valid', input_shape = (224, 224, 3)))\n",
    "model.add(MaxPooling2D())\n",
    "model.add(MaxPooling2D())\n",
    "model.add(Dropout(.1))\n",
    "\n",
    "model.add(Conv2D(32, 2, strides = 1, padding = 'valid'))\n",
    "model.add(MaxPooling2D())\n",
    "model.add(Dropout(.1))\n",
    "\n",
    "model.add(Conv2D(64, 2, strides = 1, padding = 'valid'))\n",
    "model.add(MaxPooling2D())\n",
    "model.add(MaxPooling2D())\n",
    "model.add(Dropout(.3))\n",
    "\n",
    "\n",
    "model.add(GlobalAveragePooling2D())\n",
    "\n",
    "model.add(Dense(133, activation = 'softmax'))\n",
    "\n",
    "\n",
    "### TODO: Define your architecture.\n",
    "\n",
    "model.summary()"
   ]
  },
  {
   "cell_type": "markdown",
   "metadata": {},
   "source": [
    "### Compile the Model"
   ]
  },
  {
   "cell_type": "code",
   "execution_count": 130,
   "metadata": {
    "collapsed": true
   },
   "outputs": [],
   "source": [
    "model.compile(optimizer='rmsprop', loss='categorical_crossentropy', metrics=['accuracy'])"
   ]
  },
  {
   "cell_type": "markdown",
   "metadata": {},
   "source": [
    "### (IMPLEMENTATION) Train the Model\n",
    "\n",
    "Train your model in the code cell below.  Use model checkpointing to save the model that attains the best validation loss.\n",
    "\n",
    "You are welcome to [augment the training data](https://blog.keras.io/building-powerful-image-classification-models-using-very-little-data.html), but this is not a requirement. "
   ]
  },
  {
   "cell_type": "code",
   "execution_count": 136,
   "metadata": {
    "scrolled": false
   },
   "outputs": [
    {
     "name": "stdout",
     "output_type": "stream",
     "text": [
      "Train on 6680 samples, validate on 835 samples\n",
      "Epoch 1/50\n",
      "Epoch 00000: val_loss improved from inf to 4.65790, saving model to saved_models/weights.best.from_scratch.hdf5\n",
      "6s - loss: 4.5781 - acc: 0.0404 - val_loss: 4.6579 - val_acc: 0.0311\n",
      "Epoch 2/50\n",
      "Epoch 00001: val_loss improved from 4.65790 to 4.64842, saving model to saved_models/weights.best.from_scratch.hdf5\n",
      "6s - loss: 4.5631 - acc: 0.0428 - val_loss: 4.6484 - val_acc: 0.0431\n",
      "Epoch 3/50\n",
      "Epoch 00002: val_loss did not improve\n",
      "5s - loss: 4.5510 - acc: 0.0418 - val_loss: 4.6746 - val_acc: 0.0359\n",
      "Epoch 4/50\n",
      "Epoch 00003: val_loss did not improve\n",
      "5s - loss: 4.5422 - acc: 0.0448 - val_loss: 4.6786 - val_acc: 0.0335\n",
      "Epoch 5/50\n",
      "Epoch 00004: val_loss did not improve\n",
      "5s - loss: 4.5277 - acc: 0.0484 - val_loss: 4.6752 - val_acc: 0.0431\n",
      "Epoch 6/50\n",
      "Epoch 00005: val_loss improved from 4.64842 to 4.61525, saving model to saved_models/weights.best.from_scratch.hdf5\n",
      "5s - loss: 4.5158 - acc: 0.0475 - val_loss: 4.6153 - val_acc: 0.0479\n",
      "Epoch 7/50\n",
      "Epoch 00006: val_loss improved from 4.61525 to 4.59542, saving model to saved_models/weights.best.from_scratch.hdf5\n",
      "5s - loss: 4.5034 - acc: 0.0476 - val_loss: 4.5954 - val_acc: 0.0431\n",
      "Epoch 8/50\n",
      "Epoch 00007: val_loss improved from 4.59542 to 4.57694, saving model to saved_models/weights.best.from_scratch.hdf5\n",
      "5s - loss: 4.4918 - acc: 0.0503 - val_loss: 4.5769 - val_acc: 0.0479\n",
      "Epoch 9/50\n",
      "Epoch 00008: val_loss did not improve\n",
      "5s - loss: 4.4793 - acc: 0.0501 - val_loss: 4.5966 - val_acc: 0.0395\n",
      "Epoch 10/50\n",
      "Epoch 00009: val_loss did not improve\n",
      "5s - loss: 4.4688 - acc: 0.0549 - val_loss: 4.6253 - val_acc: 0.0419\n",
      "Epoch 11/50\n",
      "Epoch 00010: val_loss did not improve\n",
      "5s - loss: 4.4584 - acc: 0.0537 - val_loss: 4.6010 - val_acc: 0.0419\n",
      "Epoch 12/50\n",
      "Epoch 00011: val_loss did not improve\n",
      "5s - loss: 4.4464 - acc: 0.0548 - val_loss: 4.5847 - val_acc: 0.0467\n",
      "Epoch 13/50\n",
      "Epoch 00012: val_loss did not improve\n",
      "5s - loss: 4.4407 - acc: 0.0537 - val_loss: 4.6144 - val_acc: 0.0383\n",
      "Epoch 14/50\n",
      "Epoch 00013: val_loss improved from 4.57694 to 4.56867, saving model to saved_models/weights.best.from_scratch.hdf5\n",
      "5s - loss: 4.4260 - acc: 0.0585 - val_loss: 4.5687 - val_acc: 0.0455\n",
      "Epoch 15/50\n",
      "Epoch 00014: val_loss improved from 4.56867 to 4.56454, saving model to saved_models/weights.best.from_scratch.hdf5\n",
      "5s - loss: 4.4084 - acc: 0.0603 - val_loss: 4.5645 - val_acc: 0.0431\n",
      "Epoch 16/50\n",
      "Epoch 00015: val_loss did not improve\n",
      "5s - loss: 4.4029 - acc: 0.0600 - val_loss: 4.8213 - val_acc: 0.0251\n",
      "Epoch 17/50\n",
      "Epoch 00016: val_loss did not improve\n",
      "5s - loss: 4.3972 - acc: 0.0587 - val_loss: 4.7350 - val_acc: 0.0335\n",
      "Epoch 18/50\n",
      "Epoch 00017: val_loss did not improve\n",
      "6s - loss: 4.3849 - acc: 0.0585 - val_loss: 4.6809 - val_acc: 0.0335\n",
      "Epoch 19/50\n",
      "Epoch 00018: val_loss improved from 4.56454 to 4.54185, saving model to saved_models/weights.best.from_scratch.hdf5\n",
      "6s - loss: 4.3732 - acc: 0.0597 - val_loss: 4.5419 - val_acc: 0.0479\n",
      "Epoch 20/50\n",
      "Epoch 00019: val_loss did not improve\n",
      "5s - loss: 4.3644 - acc: 0.0638 - val_loss: 4.5858 - val_acc: 0.0491\n",
      "Epoch 21/50\n",
      "Epoch 00020: val_loss improved from 4.54185 to 4.45729, saving model to saved_models/weights.best.from_scratch.hdf5\n",
      "5s - loss: 4.3499 - acc: 0.0612 - val_loss: 4.4573 - val_acc: 0.0455\n",
      "Epoch 22/50\n",
      "Epoch 00021: val_loss did not improve\n",
      "5s - loss: 4.3396 - acc: 0.0648 - val_loss: 4.6092 - val_acc: 0.0419\n",
      "Epoch 23/50\n",
      "Epoch 00022: val_loss did not improve\n",
      "5s - loss: 4.3408 - acc: 0.0683 - val_loss: 4.4665 - val_acc: 0.0551\n",
      "Epoch 24/50\n",
      "Epoch 00023: val_loss did not improve\n",
      "5s - loss: 4.3275 - acc: 0.0725 - val_loss: 4.5161 - val_acc: 0.0479\n",
      "Epoch 25/50\n",
      "Epoch 00024: val_loss did not improve\n",
      "5s - loss: 4.3173 - acc: 0.0702 - val_loss: 4.5506 - val_acc: 0.0527\n",
      "Epoch 26/50\n",
      "Epoch 00025: val_loss did not improve\n",
      "5s - loss: 4.3132 - acc: 0.0725 - val_loss: 4.4653 - val_acc: 0.0599\n",
      "Epoch 27/50\n",
      "Epoch 00026: val_loss did not improve\n",
      "5s - loss: 4.3068 - acc: 0.0687 - val_loss: 4.5255 - val_acc: 0.0563\n",
      "Epoch 28/50\n",
      "Epoch 00027: val_loss did not improve\n",
      "5s - loss: 4.2970 - acc: 0.0722 - val_loss: 4.4899 - val_acc: 0.0527\n",
      "Epoch 29/50\n",
      "Epoch 00028: val_loss did not improve\n",
      "5s - loss: 4.2815 - acc: 0.0731 - val_loss: 4.4646 - val_acc: 0.0515\n",
      "Epoch 30/50\n",
      "Epoch 00029: val_loss improved from 4.45729 to 4.45374, saving model to saved_models/weights.best.from_scratch.hdf5\n",
      "6s - loss: 4.2717 - acc: 0.0716 - val_loss: 4.4537 - val_acc: 0.0599\n",
      "Epoch 31/50\n",
      "Epoch 00030: val_loss did not improve\n",
      "5s - loss: 4.2664 - acc: 0.0725 - val_loss: 4.5290 - val_acc: 0.0515\n",
      "Epoch 32/50\n",
      "Epoch 00031: val_loss did not improve\n",
      "5s - loss: 4.2707 - acc: 0.0726 - val_loss: 4.5740 - val_acc: 0.0587\n",
      "Epoch 33/50\n",
      "Epoch 00032: val_loss did not improve\n",
      "5s - loss: 4.2621 - acc: 0.0777 - val_loss: 4.4627 - val_acc: 0.0551\n",
      "Epoch 34/50\n",
      "Epoch 00033: val_loss did not improve\n",
      "5s - loss: 4.2503 - acc: 0.0760 - val_loss: 4.5398 - val_acc: 0.0587\n",
      "Epoch 35/50\n",
      "Epoch 00034: val_loss did not improve\n",
      "5s - loss: 4.2362 - acc: 0.0789 - val_loss: 4.5430 - val_acc: 0.0539\n",
      "Epoch 36/50\n",
      "Epoch 00035: val_loss did not improve\n",
      "5s - loss: 4.2320 - acc: 0.0772 - val_loss: 4.5671 - val_acc: 0.0527\n",
      "Epoch 37/50\n",
      "Epoch 00036: val_loss improved from 4.45374 to 4.36068, saving model to saved_models/weights.best.from_scratch.hdf5\n",
      "6s - loss: 4.2208 - acc: 0.0796 - val_loss: 4.3607 - val_acc: 0.0695\n",
      "Epoch 38/50\n",
      "Epoch 00037: val_loss did not improve\n",
      "5s - loss: 4.2202 - acc: 0.0796 - val_loss: 4.4382 - val_acc: 0.0563\n",
      "Epoch 39/50\n",
      "Epoch 00038: val_loss did not improve\n",
      "5s - loss: 4.2147 - acc: 0.0817 - val_loss: 4.4131 - val_acc: 0.0719\n",
      "Epoch 40/50\n",
      "Epoch 00039: val_loss did not improve\n",
      "5s - loss: 4.1999 - acc: 0.0822 - val_loss: 4.4493 - val_acc: 0.0683\n",
      "Epoch 41/50\n",
      "Epoch 00040: val_loss did not improve\n",
      "5s - loss: 4.2066 - acc: 0.0859 - val_loss: 4.4175 - val_acc: 0.0647\n",
      "Epoch 42/50\n",
      "Epoch 00041: val_loss did not improve\n",
      "5s - loss: 4.1957 - acc: 0.0828 - val_loss: 4.5120 - val_acc: 0.0599\n",
      "Epoch 43/50\n",
      "Epoch 00042: val_loss did not improve\n",
      "5s - loss: 4.1948 - acc: 0.0814 - val_loss: 4.4128 - val_acc: 0.0647\n",
      "Epoch 44/50\n",
      "Epoch 00043: val_loss did not improve\n",
      "5s - loss: 4.1845 - acc: 0.0844 - val_loss: 4.4134 - val_acc: 0.0647\n",
      "Epoch 45/50\n",
      "Epoch 00044: val_loss did not improve\n",
      "5s - loss: 4.1799 - acc: 0.0861 - val_loss: 4.6036 - val_acc: 0.0575\n",
      "Epoch 46/50\n",
      "Epoch 00045: val_loss did not improve\n",
      "5s - loss: 4.1822 - acc: 0.0858 - val_loss: 4.5379 - val_acc: 0.0611\n",
      "Epoch 47/50\n",
      "Epoch 00046: val_loss did not improve\n",
      "5s - loss: 4.1658 - acc: 0.0841 - val_loss: 4.3826 - val_acc: 0.0707\n",
      "Epoch 48/50\n",
      "Epoch 00047: val_loss did not improve\n",
      "5s - loss: 4.1669 - acc: 0.0916 - val_loss: 4.4444 - val_acc: 0.0635\n",
      "Epoch 49/50\n",
      "Epoch 00048: val_loss did not improve\n",
      "5s - loss: 4.1595 - acc: 0.0900 - val_loss: 4.4921 - val_acc: 0.0527\n",
      "Epoch 50/50\n",
      "Epoch 00049: val_loss did not improve\n",
      "5s - loss: 4.1555 - acc: 0.0904 - val_loss: 4.4548 - val_acc: 0.0611\n"
     ]
    },
    {
     "data": {
      "text/plain": [
       "<keras.callbacks.History at 0x2a37e40ceb8>"
      ]
     },
     "execution_count": 136,
     "metadata": {},
     "output_type": "execute_result"
    }
   ],
   "source": [
    "from keras.callbacks import ModelCheckpoint  \n",
    "\n",
    "### TODO: specify the number of epochs that you would like to use to train the model.\n",
    "\n",
    "epochs = 50\n",
    "\n",
    "### Do NOT modify the code below this line.\n",
    "\n",
    "checkpointer = ModelCheckpoint(filepath='saved_models/weights.best.from_scratch.hdf5', \n",
    "                               verbose=1, save_best_only=True)\n",
    "\n",
    "model.fit(train_tensors, train_targets, \n",
    "          validation_data=(valid_tensors, valid_targets),\n",
    "          epochs=epochs, batch_size=128, callbacks=[checkpointer], verbose=2)"
   ]
  },
  {
   "cell_type": "markdown",
   "metadata": {},
   "source": [
    "### Load the Model with the Best Validation Loss"
   ]
  },
  {
   "cell_type": "code",
   "execution_count": 137,
   "metadata": {
    "collapsed": true
   },
   "outputs": [],
   "source": [
    "model.load_weights('saved_models/weights.best.from_scratch.hdf5')"
   ]
  },
  {
   "cell_type": "markdown",
   "metadata": {},
   "source": [
    "### Test the Model\n",
    "\n",
    "Try out your model on the test dataset of dog images.  Ensure that your test accuracy is greater than 1%."
   ]
  },
  {
   "cell_type": "code",
   "execution_count": 138,
   "metadata": {},
   "outputs": [
    {
     "name": "stdout",
     "output_type": "stream",
     "text": [
      "Test accuracy: 6.8182%\n"
     ]
    }
   ],
   "source": [
    "# get index of predicted dog breed for each image in test set\n",
    "dog_breed_predictions = [np.argmax(model.predict(np.expand_dims(tensor, axis=0))) for tensor in test_tensors]\n",
    "\n",
    "# report test accuracy\n",
    "test_accuracy = 100*np.sum(np.array(dog_breed_predictions)==np.argmax(test_targets, axis=1))/len(dog_breed_predictions)\n",
    "print('Test accuracy: %.4f%%' % test_accuracy)"
   ]
  },
  {
   "cell_type": "markdown",
   "metadata": {},
   "source": [
    "### Draw Learning Curve"
   ]
  },
  {
   "cell_type": "code",
   "execution_count": 139,
   "metadata": {
    "collapsed": true
   },
   "outputs": [],
   "source": [
    "history = _"
   ]
  },
  {
   "cell_type": "code",
   "execution_count": 140,
   "metadata": {
    "collapsed": true
   },
   "outputs": [],
   "source": [
    "# graph the history of model.fit\n",
    "def show_history_graph(history):\n",
    "    # summarize history for accuracy\n",
    "    plt.plot(history.history['acc'])\n",
    "    plt.plot(history.history['val_acc'])\n",
    "    plt.title('model accuracy')\n",
    "    plt.ylabel('accuracy')\n",
    "    plt.xlabel('epoch')\n",
    "    plt.legend(['train', 'test'], loc='upper left')\n",
    "    plt.show()\n",
    "    # summarize history for loss\n",
    "    plt.plot(history.history['loss'])\n",
    "    plt.plot(history.history['val_loss'])\n",
    "    plt.title('model loss')\n",
    "    plt.ylabel('loss')\n",
    "    plt.xlabel('epoch')\n",
    "    plt.legend(['train', 'test'], loc='upper left')\n",
    "    plt.show() "
   ]
  },
  {
   "cell_type": "code",
   "execution_count": 141,
   "metadata": {},
   "outputs": [
    {
     "data": {
      "image/png": "[encoded data removed]",
      "text/plain": [
       "<matplotlib.figure.Figure at 0x2a37d767828>"
      ]
     },
     "metadata": {},
     "output_type": "display_data"
    },
    {
     "data": {
      "image/png": "[encoded data removed]",
      "text/plain": [
       "<matplotlib.figure.Figure at 0x2a37ece2f98>"
      ]
     },
     "metadata": {},
     "output_type": "display_data"
    }
   ],
   "source": [
    "show_history_graph(history)"
   ]
  },
  {
   "cell_type": "markdown",
   "metadata": {},
   "source": [
    "---\n",
    "<a id='step4'></a>\n",
    "## Step 4: Use a CNN to Classify Dog Breeds\n",
    "\n",
    "To reduce training time without sacrificing accuracy, we show you how to train a CNN using transfer learning.  In the following step, you will get a chance to use transfer learning to train your own CNN.\n",
    "\n",
    "### Obtain Bottleneck Features"
   ]
  },
  {
   "cell_type": "code",
   "execution_count": 143,
   "metadata": {},
   "outputs": [],
   "source": [
    "bottleneck_features = np.load('bottleneck_features/DogVGG16Data.npz')\n",
    "train_VGG16 = bottleneck_features['train']\n",
    "valid_VGG16 = bottleneck_features['valid']\n",
    "test_VGG16 = bottleneck_features['test']"
   ]
  },
  {
   "cell_type": "markdown",
   "metadata": {},
   "source": [
    "### Model Architecture\n",
    "\n",
    "The model uses the the pre-trained VGG-16 model as a fixed feature extractor, where the last convolutional output of VGG-16 is fed as input to our model.  We only add a global average pooling layer and a fully connected layer, where the latter contains one node for each dog category and is equipped with a softmax."
   ]
  },
  {
   "cell_type": "code",
   "execution_count": 144,
   "metadata": {},
   "outputs": [
    {
     "name": "stdout",
     "output_type": "stream",
     "text": [
      "_________________________________________________________________\n",
      "Layer (type)                 Output Shape              Param #   \n",
      "=================================================================\n",
      "global_average_pooling2d_14  (None, 512)               0         \n",
      "_________________________________________________________________\n",
      "dense_13 (Dense)             (None, 133)               68229     \n",
      "=================================================================\n",
      "Total params: 68,229\n",
      "Trainable params: 68,229\n",
      "Non-trainable params: 0\n",
      "_________________________________________________________________\n"
     ]
    }
   ],
   "source": [
    "VGG16_model = Sequential()\n",
    "VGG16_model.add(GlobalAveragePooling2D(input_shape=train_VGG16.shape[1:]))\n",
    "VGG16_model.add(Dense(133, activation='softmax'))\n",
    "\n",
    "VGG16_model.summary()"
   ]
  },
  {
   "cell_type": "markdown",
   "metadata": {},
   "source": [
    "### Compile the Model"
   ]
  },
  {
   "cell_type": "code",
   "execution_count": 145,
   "metadata": {
    "collapsed": true
   },
   "outputs": [],
   "source": [
    "VGG16_model.compile(loss='categorical_crossentropy', optimizer='rmsprop', metrics=['accuracy'])"
   ]
  },
  {
   "cell_type": "markdown",
   "metadata": {},
   "source": [
    "### Train the Model"
   ]
  },
  {
   "cell_type": "code",
   "execution_count": 146,
   "metadata": {},
   "outputs": [
    {
     "name": "stdout",
     "output_type": "stream",
     "text": [
      "Train on 6680 samples, validate on 835 samples\n",
      "Epoch 1/20\n",
      "6500/6680 [============================>.] - ETA: 261s - loss: 14.9069 - acc: 0.0000e+ - ETA: 34s - loss: 15.0145 - acc: 0.0188     - ETA: 17s - loss: 14.8463 - acc: 0.018 - ETA: 12s - loss: 14.6968 - acc: 0.023 - ETA: 9s - loss: 14.5522 - acc: 0.027 - ETA: 7s - loss: 14.4997 - acc: 0.03 - ETA: 6s - loss: 14.4116 - acc: 0.03 - ETA: 5s - loss: 14.3791 - acc: 0.03 - ETA: 5s - loss: 14.3206 - acc: 0.03 - ETA: 4s - loss: 14.2841 - acc: 0.03 - ETA: 4s - loss: 14.2632 - acc: 0.03 - ETA: 3s - loss: 14.1965 - acc: 0.03 - ETA: 3s - loss: 14.0713 - acc: 0.03 - ETA: 3s - loss: 13.9538 - acc: 0.04 - ETA: 2s - loss: 13.8970 - acc: 0.04 - ETA: 2s - loss: 13.7919 - acc: 0.04 - ETA: 2s - loss: 13.7222 - acc: 0.05 - ETA: 2s - loss: 13.6169 - acc: 0.05 - ETA: 2s - loss: 13.5245 - acc: 0.06 - ETA: 1s - loss: 13.4307 - acc: 0.06 - ETA: 1s - loss: 13.3633 - acc: 0.06 - ETA: 1s - loss: 13.2706 - acc: 0.07 - ETA: 1s - loss: 13.1955 - acc: 0.07 - ETA: 1s - loss: 13.1334 - acc: 0.07 - ETA: 1s - loss: 13.0734 - acc: 0.08 - ETA: 1s - loss: 12.9768 - acc: 0.08 - ETA: 1s - loss: 12.9333 - acc: 0.08 - ETA: 0s - loss: 12.8757 - acc: 0.09 - ETA: 0s - loss: 12.8056 - acc: 0.09 - ETA: 0s - loss: 12.7675 - acc: 0.09 - ETA: 0s - loss: 12.7417 - acc: 0.10 - ETA: 0s - loss: 12.6766 - acc: 0.10 - ETA: 0s - loss: 12.6302 - acc: 0.10 - ETA: 0s - loss: 12.6007 - acc: 0.11 - ETA: 0s - loss: 12.5663 - acc: 0.11 - ETA: 0s - loss: 12.5235 - acc: 0.11 - ETA: 0s - loss: 12.4574 - acc: 0.11 - ETA: 0s - loss: 12.4299 - acc: 0.12 - ETA: 0s - loss: 12.4089 - acc: 0.1228Epoch 00000: val_loss improved from inf to 11.05791, saving model to saved_models/weights.best.VGG16.hdf5\n",
      "6680/6680 [==============================] - 3s - loss: 12.3686 - acc: 0.1253 - val_loss: 11.0579 - val_acc: 0.2120\n",
      "Epoch 2/20\n",
      "6500/6680 [============================>.] - ETA: 2s - loss: 9.5850 - acc: 0.250 - ETA: 2s - loss: 10.6278 - acc: 0.22 - ETA: 1s - loss: 10.4027 - acc: 0.25 - ETA: 1s - loss: 10.3891 - acc: 0.26 - ETA: 1s - loss: 10.2085 - acc: 0.27 - ETA: 1s - loss: 10.1692 - acc: 0.27 - ETA: 1s - loss: 10.2198 - acc: 0.27 - ETA: 1s - loss: 10.3078 - acc: 0.26 - ETA: 1s - loss: 10.3449 - acc: 0.26 - ETA: 1s - loss: 10.3544 - acc: 0.26 - ETA: 1s - loss: 10.3146 - acc: 0.26 - ETA: 1s - loss: 10.3367 - acc: 0.26 - ETA: 1s - loss: 10.2587 - acc: 0.26 - ETA: 1s - loss: 10.2931 - acc: 0.26 - ETA: 1s - loss: 10.2958 - acc: 0.26 - ETA: 1s - loss: 10.3588 - acc: 0.26 - ETA: 1s - loss: 10.3692 - acc: 0.26 - ETA: 1s - loss: 10.3839 - acc: 0.26 - ETA: 1s - loss: 10.3767 - acc: 0.26 - ETA: 1s - loss: 10.3760 - acc: 0.26 - ETA: 0s - loss: 10.3817 - acc: 0.26 - ETA: 0s - loss: 10.3835 - acc: 0.26 - ETA: 0s - loss: 10.3701 - acc: 0.26 - ETA: 0s - loss: 10.3619 - acc: 0.26 - ETA: 0s - loss: 10.3256 - acc: 0.27 - ETA: 0s - loss: 10.3123 - acc: 0.27 - ETA: 0s - loss: 10.3128 - acc: 0.27 - ETA: 0s - loss: 10.2959 - acc: 0.27 - ETA: 0s - loss: 10.2940 - acc: 0.27 - ETA: 0s - loss: 10.3114 - acc: 0.27 - ETA: 0s - loss: 10.3052 - acc: 0.27 - ETA: 0s - loss: 10.2570 - acc: 0.27 - ETA: 0s - loss: 10.2685 - acc: 0.27 - ETA: 0s - loss: 10.2623 - acc: 0.28 - ETA: 0s - loss: 10.2458 - acc: 0.28 - ETA: 0s - loss: 10.2572 - acc: 0.28 - ETA: 0s - loss: 10.2659 - acc: 0.28 - ETA: 0s - loss: 10.2526 - acc: 0.28 - ETA: 0s - loss: 10.2537 - acc: 0.2820Epoch 00001: val_loss improved from 11.05791 to 10.10158, saving model to saved_models/weights.best.VGG16.hdf5\n",
      "6680/6680 [==============================] - 2s - loss: 10.2436 - acc: 0.2832 - val_loss: 10.1016 - val_acc: 0.2946\n",
      "Epoch 3/20\n",
      "6660/6680 [============================>.] - ETA: 2s - loss: 10.2467 - acc: 0.30 - ETA: 2s - loss: 9.8300 - acc: 0.2889 - ETA: 2s - loss: 9.9182 - acc: 0.314 - ETA: 1s - loss: 9.8265 - acc: 0.317 - ETA: 1s - loss: 9.8782 - acc: 0.312 - ETA: 1s - loss: 10.0296 - acc: 0.31 - ETA: 1s - loss: 9.9449 - acc: 0.3179 - ETA: 1s - loss: 9.9525 - acc: 0.319 - ETA: 1s - loss: 9.9684 - acc: 0.317 - ETA: 1s - loss: 9.9032 - acc: 0.322 - ETA: 1s - loss: 9.8277 - acc: 0.328 - ETA: 1s - loss: 9.8221 - acc: 0.329 - ETA: 1s - loss: 9.7018 - acc: 0.336 - ETA: 1s - loss: 9.6467 - acc: 0.340 - ETA: 1s - loss: 9.6217 - acc: 0.342 - ETA: 1s - loss: 9.6111 - acc: 0.343 - ETA: 1s - loss: 9.5530 - acc: 0.347 - ETA: 1s - loss: 9.5857 - acc: 0.344 - ETA: 1s - loss: 9.5597 - acc: 0.348 - ETA: 1s - loss: 9.5955 - acc: 0.346 - ETA: 0s - loss: 9.5994 - acc: 0.347 - ETA: 0s - loss: 9.6258 - acc: 0.346 - ETA: 0s - loss: 9.6094 - acc: 0.346 - ETA: 0s - loss: 9.5935 - acc: 0.346 - ETA: 0s - loss: 9.6376 - acc: 0.344 - ETA: 0s - loss: 9.6114 - acc: 0.346 - ETA: 0s - loss: 9.6545 - acc: 0.343 - ETA: 0s - loss: 9.6640 - acc: 0.343 - ETA: 0s - loss: 9.6826 - acc: 0.343 - ETA: 0s - loss: 9.6446 - acc: 0.345 - ETA: 0s - loss: 9.6677 - acc: 0.344 - ETA: 0s - loss: 9.6895 - acc: 0.344 - ETA: 0s - loss: 9.6833 - acc: 0.345 - ETA: 0s - loss: 9.6542 - acc: 0.347 - ETA: 0s - loss: 9.6680 - acc: 0.345 - ETA: 0s - loss: 9.6734 - acc: 0.345 - ETA: 0s - loss: 9.6684 - acc: 0.345 - ETA: 0s - loss: 9.6764 - acc: 0.345 - ETA: 0s - loss: 9.6705 - acc: 0.346 - ETA: 0s - loss: 9.7049 - acc: 0.3449Epoch 00002: val_loss improved from 10.10158 to 9.82675, saving model to saved_models/weights.best.VGG16.hdf5\n",
      "6680/6680 [==============================] - 2s - loss: 9.7001 - acc: 0.3454 - val_loss: 9.8267 - val_acc: 0.3150\n",
      "Epoch 4/20\n",
      "6640/6680 [============================>.] - ETA: 1s - loss: 8.8674 - acc: 0.450 - ETA: 2s - loss: 8.3899 - acc: 0.461 - ETA: 1s - loss: 9.2410 - acc: 0.400 - ETA: 1s - loss: 9.2755 - acc: 0.381 - ETA: 1s - loss: 9.3527 - acc: 0.377 - ETA: 1s - loss: 9.0790 - acc: 0.396 - ETA: 1s - loss: 9.0080 - acc: 0.402 - ETA: 1s - loss: 8.9535 - acc: 0.406 - ETA: 1s - loss: 9.0295 - acc: 0.401 - ETA: 1s - loss: 9.1701 - acc: 0.391 - ETA: 1s - loss: 9.1957 - acc: 0.389 - ETA: 1s - loss: 9.2955 - acc: 0.382 - ETA: 1s - loss: 9.3401 - acc: 0.381 - ETA: 1s - loss: 9.3561 - acc: 0.378 - ETA: 1s - loss: 9.3692 - acc: 0.379 - ETA: 1s - loss: 9.4531 - acc: 0.374 - ETA: 1s - loss: 9.5262 - acc: 0.370 - ETA: 1s - loss: 9.4939 - acc: 0.373 - ETA: 1s - loss: 9.5278 - acc: 0.370 - ETA: 1s - loss: 9.5059 - acc: 0.372 - ETA: 0s - loss: 9.4884 - acc: 0.373 - ETA: 0s - loss: 9.5274 - acc: 0.370 - ETA: 0s - loss: 9.5399 - acc: 0.369 - ETA: 0s - loss: 9.5105 - acc: 0.371 - ETA: 0s - loss: 9.5174 - acc: 0.371 - ETA: 0s - loss: 9.4790 - acc: 0.373 - ETA: 0s - loss: 9.4959 - acc: 0.372 - ETA: 0s - loss: 9.5074 - acc: 0.372 - ETA: 0s - loss: 9.4973 - acc: 0.373 - ETA: 0s - loss: 9.4561 - acc: 0.375 - ETA: 0s - loss: 9.4858 - acc: 0.373 - ETA: 0s - loss: 9.4884 - acc: 0.373 - ETA: 0s - loss: 9.4657 - acc: 0.375 - ETA: 0s - loss: 9.5059 - acc: 0.372 - ETA: 0s - loss: 9.5030 - acc: 0.373 - ETA: 0s - loss: 9.5060 - acc: 0.373 - ETA: 0s - loss: 9.5068 - acc: 0.372 - ETA: 0s - loss: 9.5362 - acc: 0.370 - ETA: 0s - loss: 9.5173 - acc: 0.3720Epoch 00003: val_loss improved from 9.82675 to 9.68053, saving model to saved_models/weights.best.VGG16.hdf5\n",
      "6680/6680 [==============================] - 2s - loss: 9.5091 - acc: 0.3725 - val_loss: 9.6805 - val_acc: 0.3401\n",
      "Epoch 5/20\n"
     ]
    },
    {
     "name": "stdout",
     "output_type": "stream",
     "text": [
      "6480/6680 [============================>.] - ETA: 2s - loss: 10.4785 - acc: 0.35 - ETA: 2s - loss: 9.3058 - acc: 0.4000 - ETA: 2s - loss: 9.8419 - acc: 0.373 - ETA: 1s - loss: 9.3737 - acc: 0.400 - ETA: 1s - loss: 9.2072 - acc: 0.405 - ETA: 1s - loss: 9.1164 - acc: 0.408 - ETA: 1s - loss: 9.0955 - acc: 0.408 - ETA: 1s - loss: 9.2749 - acc: 0.395 - ETA: 1s - loss: 9.1349 - acc: 0.404 - ETA: 1s - loss: 9.1899 - acc: 0.402 - ETA: 1s - loss: 9.2439 - acc: 0.400 - ETA: 1s - loss: 9.2969 - acc: 0.397 - ETA: 1s - loss: 9.2924 - acc: 0.397 - ETA: 1s - loss: 9.2741 - acc: 0.399 - ETA: 1s - loss: 9.3657 - acc: 0.394 - ETA: 1s - loss: 9.4035 - acc: 0.392 - ETA: 1s - loss: 9.4256 - acc: 0.391 - ETA: 1s - loss: 9.4467 - acc: 0.389 - ETA: 1s - loss: 9.4344 - acc: 0.390 - ETA: 1s - loss: 9.4332 - acc: 0.390 - ETA: 1s - loss: 9.4277 - acc: 0.390 - ETA: 0s - loss: 9.4147 - acc: 0.391 - ETA: 0s - loss: 9.4397 - acc: 0.390 - ETA: 0s - loss: 9.4041 - acc: 0.393 - ETA: 0s - loss: 9.3698 - acc: 0.394 - ETA: 0s - loss: 9.3438 - acc: 0.395 - ETA: 0s - loss: 9.3442 - acc: 0.395 - ETA: 0s - loss: 9.3382 - acc: 0.395 - ETA: 0s - loss: 9.3669 - acc: 0.393 - ETA: 0s - loss: 9.3914 - acc: 0.391 - ETA: 0s - loss: 9.3858 - acc: 0.392 - ETA: 0s - loss: 9.3870 - acc: 0.392 - ETA: 0s - loss: 9.3666 - acc: 0.394 - ETA: 0s - loss: 9.3848 - acc: 0.393 - ETA: 0s - loss: 9.3830 - acc: 0.393 - ETA: 0s - loss: 9.3698 - acc: 0.393 - ETA: 0s - loss: 9.3625 - acc: 0.394 - ETA: 0s - loss: 9.3383 - acc: 0.395 - ETA: 0s - loss: 9.3250 - acc: 0.396 - ETA: 0s - loss: 9.3172 - acc: 0.3969Epoch 00004: val_loss improved from 9.68053 to 9.55977, saving model to saved_models/weights.best.VGG16.hdf5\n",
      "6680/6680 [==============================] - 2s - loss: 9.3091 - acc: 0.3966 - val_loss: 9.5598 - val_acc: 0.3521\n",
      "Epoch 6/20\n",
      "6520/6680 [============================>.] - ETA: 2s - loss: 9.6992 - acc: 0.400 - ETA: 2s - loss: 9.7122 - acc: 0.377 - ETA: 2s - loss: 9.6285 - acc: 0.382 - ETA: 2s - loss: 9.3467 - acc: 0.396 - ETA: 2s - loss: 9.3242 - acc: 0.398 - ETA: 1s - loss: 9.2461 - acc: 0.406 - ETA: 1s - loss: 9.1859 - acc: 0.409 - ETA: 1s - loss: 9.2374 - acc: 0.405 - ETA: 1s - loss: 9.2787 - acc: 0.404 - ETA: 1s - loss: 9.2433 - acc: 0.406 - ETA: 1s - loss: 9.2062 - acc: 0.407 - ETA: 1s - loss: 9.1587 - acc: 0.410 - ETA: 1s - loss: 9.1526 - acc: 0.411 - ETA: 1s - loss: 9.1298 - acc: 0.411 - ETA: 1s - loss: 9.1350 - acc: 0.410 - ETA: 1s - loss: 9.1463 - acc: 0.410 - ETA: 1s - loss: 9.2036 - acc: 0.408 - ETA: 1s - loss: 9.1940 - acc: 0.410 - ETA: 1s - loss: 9.1664 - acc: 0.412 - ETA: 1s - loss: 9.2124 - acc: 0.409 - ETA: 1s - loss: 9.2124 - acc: 0.410 - ETA: 1s - loss: 9.2575 - acc: 0.408 - ETA: 0s - loss: 9.2921 - acc: 0.406 - ETA: 0s - loss: 9.2870 - acc: 0.406 - ETA: 0s - loss: 9.2793 - acc: 0.407 - ETA: 0s - loss: 9.2897 - acc: 0.407 - ETA: 0s - loss: 9.2712 - acc: 0.407 - ETA: 0s - loss: 9.2289 - acc: 0.410 - ETA: 0s - loss: 9.1912 - acc: 0.412 - ETA: 0s - loss: 9.1914 - acc: 0.412 - ETA: 0s - loss: 9.1939 - acc: 0.412 - ETA: 0s - loss: 9.2302 - acc: 0.409 - ETA: 0s - loss: 9.2361 - acc: 0.409 - ETA: 0s - loss: 9.2385 - acc: 0.409 - ETA: 0s - loss: 9.2461 - acc: 0.408 - ETA: 0s - loss: 9.2635 - acc: 0.408 - ETA: 0s - loss: 9.2466 - acc: 0.408 - ETA: 0s - loss: 9.2333 - acc: 0.409 - ETA: 0s - loss: 9.2567 - acc: 0.408 - ETA: 0s - loss: 9.2560 - acc: 0.4080Epoch 00005: val_loss did not improve\n",
      "6680/6680 [==============================] - 2s - loss: 9.2488 - acc: 0.4084 - val_loss: 9.5684 - val_acc: 0.3569\n",
      "Epoch 7/20\n",
      "6500/6680 [============================>.] - ETA: 2s - loss: 8.6278 - acc: 0.450 - ETA: 1s - loss: 10.0229 - acc: 0.37 - ETA: 1s - loss: 9.4690 - acc: 0.4026 - ETA: 1s - loss: 9.3234 - acc: 0.413 - ETA: 1s - loss: 9.1939 - acc: 0.420 - ETA: 1s - loss: 9.1802 - acc: 0.420 - ETA: 1s - loss: 9.2034 - acc: 0.419 - ETA: 1s - loss: 9.2465 - acc: 0.416 - ETA: 1s - loss: 9.1115 - acc: 0.425 - ETA: 1s - loss: 9.0281 - acc: 0.430 - ETA: 1s - loss: 9.0733 - acc: 0.427 - ETA: 1s - loss: 9.0904 - acc: 0.425 - ETA: 1s - loss: 9.1138 - acc: 0.424 - ETA: 1s - loss: 9.1538 - acc: 0.420 - ETA: 1s - loss: 9.1149 - acc: 0.422 - ETA: 1s - loss: 9.1182 - acc: 0.421 - ETA: 1s - loss: 9.0504 - acc: 0.425 - ETA: 1s - loss: 9.0778 - acc: 0.423 - ETA: 1s - loss: 9.0965 - acc: 0.421 - ETA: 1s - loss: 9.1163 - acc: 0.419 - ETA: 0s - loss: 9.2099 - acc: 0.414 - ETA: 0s - loss: 9.2076 - acc: 0.414 - ETA: 0s - loss: 9.2325 - acc: 0.413 - ETA: 0s - loss: 9.2270 - acc: 0.413 - ETA: 0s - loss: 9.1882 - acc: 0.416 - ETA: 0s - loss: 9.1890 - acc: 0.415 - ETA: 0s - loss: 9.1948 - acc: 0.415 - ETA: 0s - loss: 9.1955 - acc: 0.416 - ETA: 0s - loss: 9.2101 - acc: 0.415 - ETA: 0s - loss: 9.2049 - acc: 0.414 - ETA: 0s - loss: 9.2102 - acc: 0.414 - ETA: 0s - loss: 9.2026 - acc: 0.414 - ETA: 0s - loss: 9.1765 - acc: 0.416 - ETA: 0s - loss: 9.1418 - acc: 0.418 - ETA: 0s - loss: 9.1610 - acc: 0.417 - ETA: 0s - loss: 9.1368 - acc: 0.419 - ETA: 0s - loss: 9.1248 - acc: 0.419 - ETA: 0s - loss: 9.1209 - acc: 0.4194Epoch 00006: val_loss improved from 9.55977 to 9.32028, saving model to saved_models/weights.best.VGG16.hdf5\n",
      "6680/6680 [==============================] - 2s - loss: 9.1331 - acc: 0.4189 - val_loss: 9.3203 - val_acc: 0.3629\n",
      "Epoch 8/20\n",
      "6620/6680 [============================>.] - ETA: 1s - loss: 9.7469 - acc: 0.350 - ETA: 2s - loss: 9.0632 - acc: 0.411 - ETA: 1s - loss: 8.3107 - acc: 0.466 - ETA: 1s - loss: 8.2143 - acc: 0.467 - ETA: 1s - loss: 8.1553 - acc: 0.470 - ETA: 1s - loss: 8.4530 - acc: 0.451 - ETA: 1s - loss: 8.6032 - acc: 0.442 - ETA: 1s - loss: 8.7317 - acc: 0.436 - ETA: 1s - loss: 8.8172 - acc: 0.431 - ETA: 1s - loss: 8.8047 - acc: 0.433 - ETA: 1s - loss: 8.8869 - acc: 0.428 - ETA: 1s - loss: 8.8750 - acc: 0.429 - ETA: 1s - loss: 8.9102 - acc: 0.425 - ETA: 1s - loss: 8.8664 - acc: 0.427 - ETA: 1s - loss: 8.8620 - acc: 0.428 - ETA: 1s - loss: 8.8544 - acc: 0.428 - ETA: 1s - loss: 8.8742 - acc: 0.426 - ETA: 1s - loss: 8.9115 - acc: 0.424 - ETA: 1s - loss: 8.8752 - acc: 0.427 - ETA: 0s - loss: 8.8706 - acc: 0.427 - ETA: 0s - loss: 8.8700 - acc: 0.428 - ETA: 0s - loss: 8.8221 - acc: 0.430 - ETA: 0s - loss: 8.7968 - acc: 0.432 - ETA: 0s - loss: 8.8403 - acc: 0.430 - ETA: 0s - loss: 8.8626 - acc: 0.427 - ETA: 0s - loss: 8.8722 - acc: 0.426 - ETA: 0s - loss: 8.8543 - acc: 0.427 - ETA: 0s - loss: 8.8471 - acc: 0.428 - ETA: 0s - loss: 8.8736 - acc: 0.426 - ETA: 0s - loss: 8.8995 - acc: 0.425 - ETA: 0s - loss: 8.8931 - acc: 0.425 - ETA: 0s - loss: 8.8961 - acc: 0.425 - ETA: 0s - loss: 8.9063 - acc: 0.425 - ETA: 0s - loss: 8.9117 - acc: 0.425 - ETA: 0s - loss: 8.9098 - acc: 0.425 - ETA: 0s - loss: 8.8886 - acc: 0.426 - ETA: 0s - loss: 8.8493 - acc: 0.4289Epoch 00007: val_loss improved from 9.32028 to 9.03517, saving model to saved_models/weights.best.VGG16.hdf5\n",
      "6680/6680 [==============================] - 2s - loss: 8.8500 - acc: 0.4289 - val_loss: 9.0352 - val_acc: 0.3796\n",
      "Epoch 9/20\n"
     ]
    },
    {
     "name": "stdout",
     "output_type": "stream",
     "text": [
      "6560/6680 [============================>.] - ETA: 2s - loss: 5.6726 - acc: 0.650 - ETA: 1s - loss: 8.7042 - acc: 0.435 - ETA: 1s - loss: 8.3644 - acc: 0.457 - ETA: 1s - loss: 8.2785 - acc: 0.465 - ETA: 1s - loss: 8.2113 - acc: 0.471 - ETA: 1s - loss: 8.2532 - acc: 0.469 - ETA: 1s - loss: 8.4525 - acc: 0.458 - ETA: 1s - loss: 8.4550 - acc: 0.457 - ETA: 1s - loss: 8.4687 - acc: 0.456 - ETA: 1s - loss: 8.3815 - acc: 0.463 - ETA: 1s - loss: 8.3777 - acc: 0.465 - ETA: 1s - loss: 8.4334 - acc: 0.462 - ETA: 1s - loss: 8.4414 - acc: 0.462 - ETA: 1s - loss: 8.4808 - acc: 0.459 - ETA: 1s - loss: 8.5521 - acc: 0.455 - ETA: 1s - loss: 8.5777 - acc: 0.454 - ETA: 1s - loss: 8.6111 - acc: 0.452 - ETA: 1s - loss: 8.6009 - acc: 0.453 - ETA: 0s - loss: 8.6278 - acc: 0.451 - ETA: 0s - loss: 8.6466 - acc: 0.451 - ETA: 0s - loss: 8.6543 - acc: 0.450 - ETA: 0s - loss: 8.6509 - acc: 0.451 - ETA: 0s - loss: 8.6260 - acc: 0.452 - ETA: 0s - loss: 8.6155 - acc: 0.452 - ETA: 0s - loss: 8.6382 - acc: 0.450 - ETA: 0s - loss: 8.6615 - acc: 0.449 - ETA: 0s - loss: 8.6384 - acc: 0.450 - ETA: 0s - loss: 8.6301 - acc: 0.451 - ETA: 0s - loss: 8.6293 - acc: 0.451 - ETA: 0s - loss: 8.5907 - acc: 0.453 - ETA: 0s - loss: 8.6220 - acc: 0.451 - ETA: 0s - loss: 8.5940 - acc: 0.453 - ETA: 0s - loss: 8.5956 - acc: 0.452 - ETA: 0s - loss: 8.5880 - acc: 0.453 - ETA: 0s - loss: 8.5749 - acc: 0.454 - ETA: 0s - loss: 8.5808 - acc: 0.453 - ETA: 0s - loss: 8.5945 - acc: 0.4530Epoch 00008: val_loss improved from 9.03517 to 9.00020, saving model to saved_models/weights.best.VGG16.hdf5\n",
      "6680/6680 [==============================] - 2s - loss: 8.6094 - acc: 0.4522 - val_loss: 9.0002 - val_acc: 0.3856\n",
      "Epoch 10/20\n",
      "6600/6680 [============================>.] - ETA: 2s - loss: 7.2766 - acc: 0.550 - ETA: 1s - loss: 8.4773 - acc: 0.470 - ETA: 1s - loss: 8.2654 - acc: 0.473 - ETA: 1s - loss: 8.5178 - acc: 0.460 - ETA: 1s - loss: 8.3927 - acc: 0.463 - ETA: 1s - loss: 8.6161 - acc: 0.452 - ETA: 1s - loss: 8.6813 - acc: 0.449 - ETA: 1s - loss: 8.5674 - acc: 0.457 - ETA: 1s - loss: 8.5686 - acc: 0.457 - ETA: 1s - loss: 8.5520 - acc: 0.460 - ETA: 1s - loss: 8.6739 - acc: 0.452 - ETA: 1s - loss: 8.6815 - acc: 0.453 - ETA: 1s - loss: 8.6879 - acc: 0.453 - ETA: 1s - loss: 8.7086 - acc: 0.451 - ETA: 1s - loss: 8.7049 - acc: 0.452 - ETA: 1s - loss: 8.6824 - acc: 0.454 - ETA: 1s - loss: 8.6688 - acc: 0.454 - ETA: 1s - loss: 8.6780 - acc: 0.453 - ETA: 1s - loss: 8.6510 - acc: 0.454 - ETA: 1s - loss: 8.6244 - acc: 0.456 - ETA: 1s - loss: 8.5870 - acc: 0.458 - ETA: 1s - loss: 8.5896 - acc: 0.457 - ETA: 0s - loss: 8.6065 - acc: 0.456 - ETA: 0s - loss: 8.5626 - acc: 0.458 - ETA: 0s - loss: 8.5938 - acc: 0.456 - ETA: 0s - loss: 8.6055 - acc: 0.456 - ETA: 0s - loss: 8.5806 - acc: 0.456 - ETA: 0s - loss: 8.5395 - acc: 0.459 - ETA: 0s - loss: 8.5708 - acc: 0.457 - ETA: 0s - loss: 8.5651 - acc: 0.457 - ETA: 0s - loss: 8.5550 - acc: 0.457 - ETA: 0s - loss: 8.5571 - acc: 0.457 - ETA: 0s - loss: 8.5589 - acc: 0.457 - ETA: 0s - loss: 8.5520 - acc: 0.458 - ETA: 0s - loss: 8.5230 - acc: 0.459 - ETA: 0s - loss: 8.5395 - acc: 0.458 - ETA: 0s - loss: 8.5170 - acc: 0.460 - ETA: 0s - loss: 8.5373 - acc: 0.458 - ETA: 0s - loss: 8.5239 - acc: 0.459 - ETA: 0s - loss: 8.5400 - acc: 0.4576Epoch 00009: val_loss improved from 9.00020 to 8.85622, saving model to saved_models/weights.best.VGG16.hdf5\n",
      "6680/6680 [==============================] - 2s - loss: 8.5517 - acc: 0.4567 - val_loss: 8.8562 - val_acc: 0.3916\n",
      "Epoch 11/20\n",
      "6640/6680 [============================>.] - ETA: 2s - loss: 11.2831 - acc: 0.30 - ETA: 2s - loss: 8.7652 - acc: 0.4333 - ETA: 2s - loss: 8.7595 - acc: 0.432 - ETA: 2s - loss: 8.6569 - acc: 0.433 - ETA: 2s - loss: 8.4183 - acc: 0.450 - ETA: 2s - loss: 8.4215 - acc: 0.452 - ETA: 1s - loss: 8.5129 - acc: 0.447 - ETA: 1s - loss: 8.3825 - acc: 0.456 - ETA: 1s - loss: 8.3613 - acc: 0.457 - ETA: 1s - loss: 8.4526 - acc: 0.450 - ETA: 1s - loss: 8.4859 - acc: 0.450 - ETA: 1s - loss: 8.5205 - acc: 0.448 - ETA: 1s - loss: 8.5160 - acc: 0.449 - ETA: 1s - loss: 8.5014 - acc: 0.451 - ETA: 1s - loss: 8.5598 - acc: 0.449 - ETA: 1s - loss: 8.6131 - acc: 0.445 - ETA: 1s - loss: 8.6344 - acc: 0.444 - ETA: 1s - loss: 8.6965 - acc: 0.440 - ETA: 1s - loss: 8.7006 - acc: 0.440 - ETA: 1s - loss: 8.6541 - acc: 0.443 - ETA: 1s - loss: 8.6263 - acc: 0.446 - ETA: 1s - loss: 8.6003 - acc: 0.447 - ETA: 1s - loss: 8.5869 - acc: 0.448 - ETA: 0s - loss: 8.5748 - acc: 0.449 - ETA: 0s - loss: 8.5497 - acc: 0.451 - ETA: 0s - loss: 8.5053 - acc: 0.453 - ETA: 0s - loss: 8.4755 - acc: 0.455 - ETA: 0s - loss: 8.4745 - acc: 0.456 - ETA: 0s - loss: 8.4217 - acc: 0.459 - ETA: 0s - loss: 8.4189 - acc: 0.460 - ETA: 0s - loss: 8.3986 - acc: 0.461 - ETA: 0s - loss: 8.3863 - acc: 0.462 - ETA: 0s - loss: 8.3570 - acc: 0.464 - ETA: 0s - loss: 8.3417 - acc: 0.465 - ETA: 0s - loss: 8.3535 - acc: 0.464 - ETA: 0s - loss: 8.3405 - acc: 0.465 - ETA: 0s - loss: 8.3273 - acc: 0.465 - ETA: 0s - loss: 8.3179 - acc: 0.466 - ETA: 0s - loss: 8.3103 - acc: 0.466 - ETA: 0s - loss: 8.3053 - acc: 0.467 - ETA: 0s - loss: 8.2963 - acc: 0.4681Epoch 00010: val_loss improved from 8.85622 to 8.72094, saving model to saved_models/weights.best.VGG16.hdf5\n",
      "6680/6680 [==============================] - 2s - loss: 8.2882 - acc: 0.4684 - val_loss: 8.7209 - val_acc: 0.3940\n",
      "Epoch 12/20\n",
      "6620/6680 [============================>.] - ETA: 2s - loss: 6.6522 - acc: 0.550 - ETA: 2s - loss: 7.0153 - acc: 0.545 - ETA: 1s - loss: 7.9785 - acc: 0.484 - ETA: 1s - loss: 7.9766 - acc: 0.488 - ETA: 1s - loss: 8.4060 - acc: 0.461 - ETA: 1s - loss: 8.0934 - acc: 0.483 - ETA: 1s - loss: 8.0944 - acc: 0.482 - ETA: 1s - loss: 8.1265 - acc: 0.481 - ETA: 1s - loss: 8.1817 - acc: 0.476 - ETA: 1s - loss: 8.2146 - acc: 0.471 - ETA: 1s - loss: 8.1409 - acc: 0.476 - ETA: 1s - loss: 8.1801 - acc: 0.473 - ETA: 1s - loss: 8.1523 - acc: 0.475 - ETA: 1s - loss: 8.0879 - acc: 0.479 - ETA: 1s - loss: 8.0742 - acc: 0.480 - ETA: 1s - loss: 8.0746 - acc: 0.481 - ETA: 1s - loss: 8.0860 - acc: 0.481 - ETA: 1s - loss: 8.0751 - acc: 0.482 - ETA: 1s - loss: 8.1094 - acc: 0.480 - ETA: 1s - loss: 8.1231 - acc: 0.479 - ETA: 1s - loss: 8.1226 - acc: 0.479 - ETA: 1s - loss: 8.1127 - acc: 0.480 - ETA: 0s - loss: 8.0901 - acc: 0.481 - ETA: 0s - loss: 8.0480 - acc: 0.484 - ETA: 0s - loss: 8.0453 - acc: 0.484 - ETA: 0s - loss: 8.0720 - acc: 0.483 - ETA: 0s - loss: 8.1092 - acc: 0.480 - ETA: 0s - loss: 8.1029 - acc: 0.480 - ETA: 0s - loss: 8.0772 - acc: 0.481 - ETA: 0s - loss: 8.0630 - acc: 0.481 - ETA: 0s - loss: 8.0793 - acc: 0.481 - ETA: 0s - loss: 8.0735 - acc: 0.481 - ETA: 0s - loss: 8.0808 - acc: 0.481 - ETA: 0s - loss: 8.0926 - acc: 0.480 - ETA: 0s - loss: 8.0789 - acc: 0.481 - ETA: 0s - loss: 8.1017 - acc: 0.480 - ETA: 0s - loss: 8.1149 - acc: 0.479 - ETA: 0s - loss: 8.1064 - acc: 0.479 - ETA: 0s - loss: 8.1102 - acc: 0.479 - ETA: 0s - loss: 8.1177 - acc: 0.479 - ETA: 0s - loss: 8.1060 - acc: 0.4801Epoch 00011: val_loss improved from 8.72094 to 8.56674, saving model to saved_models/weights.best.VGG16.hdf5\n",
      "6680/6680 [==============================] - 2s - loss: 8.1177 - acc: 0.4795 - val_loss: 8.5667 - val_acc: 0.4216\n",
      "Epoch 13/20\n"
     ]
    },
    {
     "name": "stdout",
     "output_type": "stream",
     "text": [
      "6500/6680 [============================>.] - ETA: 2s - loss: 8.0593 - acc: 0.500 - ETA: 2s - loss: 7.5751 - acc: 0.520 - ETA: 2s - loss: 8.3054 - acc: 0.475 - ETA: 2s - loss: 8.1446 - acc: 0.486 - ETA: 2s - loss: 8.0462 - acc: 0.492 - ETA: 1s - loss: 8.0105 - acc: 0.495 - ETA: 1s - loss: 7.9878 - acc: 0.495 - ETA: 1s - loss: 8.0324 - acc: 0.493 - ETA: 1s - loss: 8.0027 - acc: 0.493 - ETA: 1s - loss: 8.0264 - acc: 0.490 - ETA: 1s - loss: 8.0241 - acc: 0.491 - ETA: 1s - loss: 7.9904 - acc: 0.492 - ETA: 1s - loss: 7.9962 - acc: 0.492 - ETA: 1s - loss: 7.9297 - acc: 0.496 - ETA: 1s - loss: 7.9784 - acc: 0.493 - ETA: 1s - loss: 7.9996 - acc: 0.492 - ETA: 1s - loss: 7.9685 - acc: 0.494 - ETA: 1s - loss: 7.9467 - acc: 0.495 - ETA: 1s - loss: 8.0045 - acc: 0.491 - ETA: 1s - loss: 7.9637 - acc: 0.493 - ETA: 1s - loss: 7.9658 - acc: 0.493 - ETA: 1s - loss: 7.9971 - acc: 0.492 - ETA: 1s - loss: 8.0113 - acc: 0.491 - ETA: 0s - loss: 8.0200 - acc: 0.490 - ETA: 0s - loss: 8.0375 - acc: 0.488 - ETA: 0s - loss: 8.0461 - acc: 0.488 - ETA: 0s - loss: 8.0610 - acc: 0.486 - ETA: 0s - loss: 8.0722 - acc: 0.486 - ETA: 0s - loss: 8.0554 - acc: 0.487 - ETA: 0s - loss: 8.0734 - acc: 0.486 - ETA: 0s - loss: 8.0710 - acc: 0.486 - ETA: 0s - loss: 8.0582 - acc: 0.486 - ETA: 0s - loss: 8.0362 - acc: 0.487 - ETA: 0s - loss: 8.0554 - acc: 0.486 - ETA: 0s - loss: 8.0404 - acc: 0.487 - ETA: 0s - loss: 8.0445 - acc: 0.486 - ETA: 0s - loss: 8.0148 - acc: 0.488 - ETA: 0s - loss: 7.9962 - acc: 0.489 - ETA: 0s - loss: 8.0038 - acc: 0.489 - ETA: 0s - loss: 8.0251 - acc: 0.4882Epoch 00012: val_loss improved from 8.56674 to 8.45431, saving model to saved_models/weights.best.VGG16.hdf5\n",
      "6680/6680 [==============================] - 2s - loss: 8.0051 - acc: 0.4894 - val_loss: 8.4543 - val_acc: 0.4204\n",
      "Epoch 14/20\n",
      "6660/6680 [============================>.] - ETA: 2s - loss: 8.0592 - acc: 0.500 - ETA: 1s - loss: 7.8411 - acc: 0.500 - ETA: 1s - loss: 8.2560 - acc: 0.478 - ETA: 1s - loss: 8.1403 - acc: 0.485 - ETA: 1s - loss: 8.1648 - acc: 0.485 - ETA: 1s - loss: 8.1733 - acc: 0.484 - ETA: 1s - loss: 7.9976 - acc: 0.495 - ETA: 1s - loss: 7.9651 - acc: 0.496 - ETA: 1s - loss: 7.9346 - acc: 0.498 - ETA: 1s - loss: 8.0070 - acc: 0.494 - ETA: 1s - loss: 8.0976 - acc: 0.488 - ETA: 1s - loss: 8.1149 - acc: 0.487 - ETA: 1s - loss: 8.0786 - acc: 0.488 - ETA: 1s - loss: 8.0663 - acc: 0.489 - ETA: 1s - loss: 8.0110 - acc: 0.492 - ETA: 1s - loss: 8.0612 - acc: 0.488 - ETA: 1s - loss: 8.0426 - acc: 0.489 - ETA: 1s - loss: 8.0701 - acc: 0.487 - ETA: 1s - loss: 8.0127 - acc: 0.490 - ETA: 0s - loss: 7.9988 - acc: 0.491 - ETA: 0s - loss: 7.9541 - acc: 0.494 - ETA: 0s - loss: 7.9635 - acc: 0.493 - ETA: 0s - loss: 7.9248 - acc: 0.496 - ETA: 0s - loss: 7.9539 - acc: 0.495 - ETA: 0s - loss: 7.9021 - acc: 0.498 - ETA: 0s - loss: 7.9084 - acc: 0.497 - ETA: 0s - loss: 7.9154 - acc: 0.497 - ETA: 0s - loss: 7.9028 - acc: 0.498 - ETA: 0s - loss: 7.8926 - acc: 0.499 - ETA: 0s - loss: 7.9006 - acc: 0.498 - ETA: 0s - loss: 7.9058 - acc: 0.497 - ETA: 0s - loss: 7.9161 - acc: 0.497 - ETA: 0s - loss: 7.9389 - acc: 0.495 - ETA: 0s - loss: 7.9096 - acc: 0.497 - ETA: 0s - loss: 7.9263 - acc: 0.496 - ETA: 0s - loss: 7.9427 - acc: 0.495 - ETA: 0s - loss: 7.9451 - acc: 0.495 - ETA: 0s - loss: 7.9507 - acc: 0.495 - ETA: 0s - loss: 7.9342 - acc: 0.4958Epoch 00013: val_loss did not improve\n",
      "6680/6680 [==============================] - 2s - loss: 7.9343 - acc: 0.4957 - val_loss: 8.4879 - val_acc: 0.4084\n",
      "Epoch 15/20\n",
      "6500/6680 [============================>.] - ETA: 2s - loss: 8.8652 - acc: 0.450 - ETA: 1s - loss: 8.8058 - acc: 0.440 - ETA: 1s - loss: 8.2459 - acc: 0.471 - ETA: 1s - loss: 7.9401 - acc: 0.492 - ETA: 1s - loss: 7.8211 - acc: 0.500 - ETA: 1s - loss: 7.8156 - acc: 0.500 - ETA: 1s - loss: 7.7254 - acc: 0.504 - ETA: 1s - loss: 7.7589 - acc: 0.501 - ETA: 1s - loss: 7.9144 - acc: 0.493 - ETA: 1s - loss: 7.9524 - acc: 0.492 - ETA: 1s - loss: 8.0412 - acc: 0.487 - ETA: 1s - loss: 7.9716 - acc: 0.490 - ETA: 1s - loss: 7.9896 - acc: 0.489 - ETA: 1s - loss: 7.9621 - acc: 0.491 - ETA: 1s - loss: 7.9965 - acc: 0.490 - ETA: 1s - loss: 7.9969 - acc: 0.490 - ETA: 1s - loss: 7.9805 - acc: 0.491 - ETA: 1s - loss: 7.9125 - acc: 0.495 - ETA: 1s - loss: 7.8794 - acc: 0.498 - ETA: 0s - loss: 7.8327 - acc: 0.501 - ETA: 0s - loss: 7.8600 - acc: 0.499 - ETA: 0s - loss: 7.7882 - acc: 0.503 - ETA: 0s - loss: 7.8264 - acc: 0.501 - ETA: 0s - loss: 7.8466 - acc: 0.500 - ETA: 0s - loss: 7.8277 - acc: 0.501 - ETA: 0s - loss: 7.8310 - acc: 0.501 - ETA: 0s - loss: 7.8518 - acc: 0.499 - ETA: 0s - loss: 7.8739 - acc: 0.498 - ETA: 0s - loss: 7.8487 - acc: 0.500 - ETA: 0s - loss: 7.8236 - acc: 0.502 - ETA: 0s - loss: 7.8382 - acc: 0.501 - ETA: 0s - loss: 7.8497 - acc: 0.500 - ETA: 0s - loss: 7.8567 - acc: 0.500 - ETA: 0s - loss: 7.8827 - acc: 0.498 - ETA: 0s - loss: 7.9061 - acc: 0.496 - ETA: 0s - loss: 7.8924 - acc: 0.497 - ETA: 0s - loss: 7.8991 - acc: 0.4971Epoch 00014: val_loss improved from 8.45431 to 8.31165, saving model to saved_models/weights.best.VGG16.hdf5\n",
      "6680/6680 [==============================] - 2s - loss: 7.8771 - acc: 0.4985 - val_loss: 8.3117 - val_acc: 0.4383\n",
      "Epoch 16/20\n",
      "6640/6680 [============================>.] - ETA: 1s - loss: 6.4473 - acc: 0.600 - ETA: 1s - loss: 7.4324 - acc: 0.530 - ETA: 1s - loss: 7.1809 - acc: 0.547 - ETA: 1s - loss: 7.2837 - acc: 0.542 - ETA: 1s - loss: 7.3263 - acc: 0.540 - ETA: 1s - loss: 7.4798 - acc: 0.531 - ETA: 1s - loss: 7.3170 - acc: 0.539 - ETA: 1s - loss: 7.4302 - acc: 0.532 - ETA: 1s - loss: 7.4716 - acc: 0.530 - ETA: 1s - loss: 7.4900 - acc: 0.528 - ETA: 1s - loss: 7.5334 - acc: 0.526 - ETA: 1s - loss: 7.5487 - acc: 0.525 - ETA: 1s - loss: 7.5934 - acc: 0.521 - ETA: 1s - loss: 7.6211 - acc: 0.520 - ETA: 1s - loss: 7.6452 - acc: 0.518 - ETA: 1s - loss: 7.6856 - acc: 0.516 - ETA: 1s - loss: 7.6529 - acc: 0.517 - ETA: 1s - loss: 7.6907 - acc: 0.515 - ETA: 1s - loss: 7.6782 - acc: 0.516 - ETA: 1s - loss: 7.5759 - acc: 0.522 - ETA: 0s - loss: 7.5827 - acc: 0.521 - ETA: 0s - loss: 7.5921 - acc: 0.520 - ETA: 0s - loss: 7.5987 - acc: 0.519 - ETA: 0s - loss: 7.6388 - acc: 0.517 - ETA: 0s - loss: 7.6496 - acc: 0.516 - ETA: 0s - loss: 7.7064 - acc: 0.513 - ETA: 0s - loss: 7.6909 - acc: 0.513 - ETA: 0s - loss: 7.7022 - acc: 0.512 - ETA: 0s - loss: 7.6903 - acc: 0.513 - ETA: 0s - loss: 7.7120 - acc: 0.512 - ETA: 0s - loss: 7.7442 - acc: 0.510 - ETA: 0s - loss: 7.7408 - acc: 0.510 - ETA: 0s - loss: 7.7734 - acc: 0.508 - ETA: 0s - loss: 7.7621 - acc: 0.508 - ETA: 0s - loss: 7.7645 - acc: 0.508 - ETA: 0s - loss: 7.8044 - acc: 0.506 - ETA: 0s - loss: 7.8014 - acc: 0.506 - ETA: 0s - loss: 7.7801 - acc: 0.507 - ETA: 0s - loss: 7.7943 - acc: 0.5069Epoch 00015: val_loss did not improve\n",
      "6680/6680 [==============================] - 2s - loss: 7.8247 - acc: 0.5051 - val_loss: 8.3624 - val_acc: 0.4228\n",
      "Epoch 17/20\n"
     ]
    },
    {
     "name": "stdout",
     "output_type": "stream",
     "text": [
      "6500/6680 [============================>.] - ETA: 1s - loss: 11.2892 - acc: 0.30 - ETA: 1s - loss: 8.3880 - acc: 0.4800 - ETA: 1s - loss: 7.8292 - acc: 0.513 - ETA: 1s - loss: 7.7417 - acc: 0.517 - ETA: 1s - loss: 7.4664 - acc: 0.534 - ETA: 1s - loss: 7.5666 - acc: 0.526 - ETA: 1s - loss: 7.4850 - acc: 0.529 - ETA: 1s - loss: 7.5871 - acc: 0.520 - ETA: 1s - loss: 7.5187 - acc: 0.524 - ETA: 1s - loss: 7.4709 - acc: 0.526 - ETA: 1s - loss: 7.5163 - acc: 0.524 - ETA: 1s - loss: 7.6127 - acc: 0.518 - ETA: 1s - loss: 7.6324 - acc: 0.517 - ETA: 1s - loss: 7.6567 - acc: 0.515 - ETA: 1s - loss: 7.6740 - acc: 0.513 - ETA: 1s - loss: 7.7476 - acc: 0.509 - ETA: 1s - loss: 7.7417 - acc: 0.509 - ETA: 1s - loss: 7.7301 - acc: 0.510 - ETA: 0s - loss: 7.7004 - acc: 0.512 - ETA: 0s - loss: 7.6826 - acc: 0.513 - ETA: 0s - loss: 7.6757 - acc: 0.513 - ETA: 0s - loss: 7.6965 - acc: 0.512 - ETA: 0s - loss: 7.6847 - acc: 0.512 - ETA: 0s - loss: 7.6789 - acc: 0.512 - ETA: 0s - loss: 7.6228 - acc: 0.516 - ETA: 0s - loss: 7.6083 - acc: 0.516 - ETA: 0s - loss: 7.6174 - acc: 0.515 - ETA: 0s - loss: 7.6277 - acc: 0.514 - ETA: 0s - loss: 7.6495 - acc: 0.513 - ETA: 0s - loss: 7.6718 - acc: 0.511 - ETA: 0s - loss: 7.7056 - acc: 0.509 - ETA: 0s - loss: 7.6984 - acc: 0.509 - ETA: 0s - loss: 7.7032 - acc: 0.508 - ETA: 0s - loss: 7.7119 - acc: 0.508 - ETA: 0s - loss: 7.7300 - acc: 0.507 - ETA: 0s - loss: 7.7493 - acc: 0.505 - ETA: 0s - loss: 7.7463 - acc: 0.506 - ETA: 0s - loss: 7.7298 - acc: 0.5071Epoch 00016: val_loss improved from 8.31165 to 8.28788, saving model to saved_models/weights.best.VGG16.hdf5\n",
      "6680/6680 [==============================] - 2s - loss: 7.7316 - acc: 0.5072 - val_loss: 8.2879 - val_acc: 0.4263\n",
      "Epoch 18/20\n",
      "6620/6680 [============================>.] - ETA: 2s - loss: 5.6413 - acc: 0.650 - ETA: 2s - loss: 7.4065 - acc: 0.533 - ETA: 2s - loss: 7.3620 - acc: 0.535 - ETA: 2s - loss: 7.4587 - acc: 0.530 - ETA: 1s - loss: 7.5559 - acc: 0.519 - ETA: 1s - loss: 7.7846 - acc: 0.507 - ETA: 1s - loss: 7.6643 - acc: 0.515 - ETA: 1s - loss: 7.6734 - acc: 0.515 - ETA: 1s - loss: 7.7110 - acc: 0.512 - ETA: 1s - loss: 7.6806 - acc: 0.514 - ETA: 1s - loss: 7.7260 - acc: 0.511 - ETA: 1s - loss: 7.6132 - acc: 0.517 - ETA: 1s - loss: 7.6848 - acc: 0.512 - ETA: 1s - loss: 7.7517 - acc: 0.508 - ETA: 1s - loss: 7.6823 - acc: 0.512 - ETA: 1s - loss: 7.6750 - acc: 0.513 - ETA: 1s - loss: 7.6934 - acc: 0.511 - ETA: 1s - loss: 7.6964 - acc: 0.510 - ETA: 1s - loss: 7.6281 - acc: 0.515 - ETA: 1s - loss: 7.6251 - acc: 0.515 - ETA: 1s - loss: 7.6293 - acc: 0.514 - ETA: 0s - loss: 7.6182 - acc: 0.515 - ETA: 0s - loss: 7.5970 - acc: 0.516 - ETA: 0s - loss: 7.5919 - acc: 0.516 - ETA: 0s - loss: 7.5805 - acc: 0.518 - ETA: 0s - loss: 7.5445 - acc: 0.520 - ETA: 0s - loss: 7.5403 - acc: 0.520 - ETA: 0s - loss: 7.5536 - acc: 0.519 - ETA: 0s - loss: 7.5290 - acc: 0.520 - ETA: 0s - loss: 7.5612 - acc: 0.518 - ETA: 0s - loss: 7.5704 - acc: 0.518 - ETA: 0s - loss: 7.5819 - acc: 0.517 - ETA: 0s - loss: 7.5794 - acc: 0.516 - ETA: 0s - loss: 7.5774 - acc: 0.516 - ETA: 0s - loss: 7.6192 - acc: 0.513 - ETA: 0s - loss: 7.6118 - acc: 0.514 - ETA: 0s - loss: 7.6084 - acc: 0.514 - ETA: 0s - loss: 7.6083 - acc: 0.515 - ETA: 0s - loss: 7.6138 - acc: 0.5147Epoch 00017: val_loss improved from 8.28788 to 8.11339, saving model to saved_models/weights.best.VGG16.hdf5\n",
      "6680/6680 [==============================] - 2s - loss: 7.6106 - acc: 0.5150 - val_loss: 8.1134 - val_acc: 0.4395\n",
      "Epoch 19/20\n",
      "6620/6680 [============================>.] - ETA: 1s - loss: 9.5878 - acc: 0.400 - ETA: 1s - loss: 8.1893 - acc: 0.480 - ETA: 1s - loss: 7.8819 - acc: 0.497 - ETA: 1s - loss: 7.7684 - acc: 0.505 - ETA: 1s - loss: 7.8133 - acc: 0.503 - ETA: 1s - loss: 7.7660 - acc: 0.505 - ETA: 1s - loss: 7.8470 - acc: 0.500 - ETA: 1s - loss: 7.7545 - acc: 0.506 - ETA: 1s - loss: 7.8766 - acc: 0.498 - ETA: 1s - loss: 7.8405 - acc: 0.498 - ETA: 1s - loss: 7.8430 - acc: 0.498 - ETA: 1s - loss: 7.7754 - acc: 0.503 - ETA: 1s - loss: 7.7718 - acc: 0.503 - ETA: 1s - loss: 7.7029 - acc: 0.508 - ETA: 1s - loss: 7.6962 - acc: 0.509 - ETA: 1s - loss: 7.6773 - acc: 0.511 - ETA: 1s - loss: 7.6286 - acc: 0.514 - ETA: 1s - loss: 7.6744 - acc: 0.511 - ETA: 1s - loss: 7.6608 - acc: 0.513 - ETA: 1s - loss: 7.6668 - acc: 0.513 - ETA: 0s - loss: 7.6832 - acc: 0.512 - ETA: 0s - loss: 7.6435 - acc: 0.514 - ETA: 0s - loss: 7.6321 - acc: 0.515 - ETA: 0s - loss: 7.5437 - acc: 0.520 - ETA: 0s - loss: 7.5190 - acc: 0.522 - ETA: 0s - loss: 7.5531 - acc: 0.519 - ETA: 0s - loss: 7.5582 - acc: 0.519 - ETA: 0s - loss: 7.5360 - acc: 0.520 - ETA: 0s - loss: 7.5228 - acc: 0.521 - ETA: 0s - loss: 7.5141 - acc: 0.522 - ETA: 0s - loss: 7.5182 - acc: 0.521 - ETA: 0s - loss: 7.5458 - acc: 0.520 - ETA: 0s - loss: 7.5167 - acc: 0.522 - ETA: 0s - loss: 7.5055 - acc: 0.522 - ETA: 0s - loss: 7.4963 - acc: 0.522 - ETA: 0s - loss: 7.4983 - acc: 0.521 - ETA: 0s - loss: 7.5079 - acc: 0.521 - ETA: 0s - loss: 7.4877 - acc: 0.522 - ETA: 0s - loss: 7.4885 - acc: 0.5228Epoch 00018: val_loss improved from 8.11339 to 8.06853, saving model to saved_models/weights.best.VGG16.hdf5\n",
      "6680/6680 [==============================] - 2s - loss: 7.4889 - acc: 0.5229 - val_loss: 8.0685 - val_acc: 0.4419\n",
      "Epoch 20/20\n",
      "6560/6680 [============================>.] - ETA: 3s - loss: 8.0591 - acc: 0.500 - ETA: 2s - loss: 7.3594 - acc: 0.522 - ETA: 2s - loss: 6.9098 - acc: 0.558 - ETA: 2s - loss: 7.1212 - acc: 0.548 - ETA: 2s - loss: 7.2570 - acc: 0.537 - ETA: 1s - loss: 7.3130 - acc: 0.534 - ETA: 1s - loss: 7.1462 - acc: 0.546 - ETA: 1s - loss: 7.1965 - acc: 0.543 - ETA: 1s - loss: 7.2285 - acc: 0.542 - ETA: 1s - loss: 7.1829 - acc: 0.545 - ETA: 1s - loss: 7.1596 - acc: 0.545 - ETA: 1s - loss: 7.2171 - acc: 0.542 - ETA: 1s - loss: 7.1794 - acc: 0.545 - ETA: 1s - loss: 7.1858 - acc: 0.545 - ETA: 1s - loss: 7.2561 - acc: 0.540 - ETA: 1s - loss: 7.3108 - acc: 0.537 - ETA: 1s - loss: 7.2838 - acc: 0.538 - ETA: 1s - loss: 7.2480 - acc: 0.539 - ETA: 1s - loss: 7.2416 - acc: 0.539 - ETA: 1s - loss: 7.2663 - acc: 0.538 - ETA: 1s - loss: 7.2793 - acc: 0.537 - ETA: 1s - loss: 7.3551 - acc: 0.532 - ETA: 0s - loss: 7.3458 - acc: 0.534 - ETA: 0s - loss: 7.3005 - acc: 0.536 - ETA: 0s - loss: 7.2824 - acc: 0.538 - ETA: 0s - loss: 7.2994 - acc: 0.537 - ETA: 0s - loss: 7.3243 - acc: 0.535 - ETA: 0s - loss: 7.3250 - acc: 0.535 - ETA: 0s - loss: 7.3412 - acc: 0.534 - ETA: 0s - loss: 7.3290 - acc: 0.535 - ETA: 0s - loss: 7.3204 - acc: 0.535 - ETA: 0s - loss: 7.3183 - acc: 0.536 - ETA: 0s - loss: 7.3159 - acc: 0.536 - ETA: 0s - loss: 7.3333 - acc: 0.534 - ETA: 0s - loss: 7.3648 - acc: 0.532 - ETA: 0s - loss: 7.3781 - acc: 0.532 - ETA: 0s - loss: 7.3580 - acc: 0.533 - ETA: 0s - loss: 7.3558 - acc: 0.533 - ETA: 0s - loss: 7.3889 - acc: 0.531 - ETA: 0s - loss: 7.4126 - acc: 0.5296Epoch 00019: val_loss improved from 8.06853 to 7.99190, saving model to saved_models/weights.best.VGG16.hdf5\n",
      "6680/6680 [==============================] - 2s - loss: 7.4044 - acc: 0.5301 - val_loss: 7.9919 - val_acc: 0.4491\n"
     ]
    },
    {
     "data": {
      "text/plain": [
       "<keras.callbacks.History at 0x2a37f063e48>"
      ]
     },
     "execution_count": 146,
     "metadata": {},
     "output_type": "execute_result"
    }
   ],
   "source": [
    "checkpointer = ModelCheckpoint(filepath='saved_models/weights.best.VGG16.hdf5', \n",
    "                               verbose=1, save_best_only=True)\n",
    "\n",
    "VGG16_model.fit(train_VGG16, train_targets, \n",
    "          validation_data=(valid_VGG16, valid_targets),\n",
    "          epochs=20, batch_size=20, callbacks=[checkpointer], verbose=1)"
   ]
  },
  {
   "cell_type": "markdown",
   "metadata": {},
   "source": [
    "### Load the Model with the Best Validation Loss"
   ]
  },
  {
   "cell_type": "code",
   "execution_count": 147,
   "metadata": {
    "collapsed": true
   },
   "outputs": [],
   "source": [
    "VGG16_model.load_weights('saved_models/weights.best.VGG16.hdf5')"
   ]
  },
  {
   "cell_type": "code",
   "execution_count": 150,
   "metadata": {},
   "outputs": [],
   "source": [
    "hist = _"
   ]
  },
  {
   "cell_type": "code",
   "execution_count": 151,
   "metadata": {},
   "outputs": [
    {
     "data": {
      "image/png": "[encoded data removed]",
      "text/plain": [
       "<matplotlib.figure.Figure at 0x2a37e9900f0>"
      ]
     },
     "metadata": {},
     "output_type": "display_data"
    },
    {
     "data": {
      "image/png": "[encoded data removed]",
      "text/plain": [
       "<matplotlib.figure.Figure at 0x2a37ede6198>"
      ]
     },
     "metadata": {},
     "output_type": "display_data"
    }
   ],
   "source": [
    "show_history_graph(hist)"
   ]
  },
  {
   "cell_type": "markdown",
   "metadata": {},
   "source": [
    "### Test the Model\n",
    "\n",
    "Now, we can use the CNN to test how well it identifies breed within our test dataset of dog images.  We print the test accuracy below."
   ]
  },
  {
   "cell_type": "code",
   "execution_count": 152,
   "metadata": {},
   "outputs": [
    {
     "name": "stdout",
     "output_type": "stream",
     "text": [
      "Test accuracy: 43.1818%\n"
     ]
    }
   ],
   "source": [
    "# get index of predicted dog breed for each image in test set\n",
    "VGG16_predictions = [np.argmax(VGG16_model.predict(np.expand_dims(feature, axis=0))) for feature in test_VGG16]\n",
    "\n",
    "# report test accuracy\n",
    "test_accuracy = 100*np.sum(np.array(VGG16_predictions)==np.argmax(test_targets, axis=1))/len(VGG16_predictions)\n",
    "print('Test accuracy: %.4f%%' % test_accuracy)"
   ]
  },
  {
   "cell_type": "markdown",
   "metadata": {},
   "source": [
    "### Predict Dog Breed with the Model"
   ]
  },
  {
   "cell_type": "code",
   "execution_count": 153,
   "metadata": {
    "collapsed": true
   },
   "outputs": [],
   "source": [
    "from extract_bottleneck_features import *\n",
    "\n",
    "def VGG16_predict_breed(img_path):\n",
    "    # extract bottleneck features\n",
    "    bottleneck_feature = extract_VGG16(path_to_tensor(img_path))\n",
    "    # obtain predicted vector\n",
    "    predicted_vector = VGG16_model.predict(bottleneck_feature)\n",
    "    # return dog breed that is predicted by the model\n",
    "    return dog_names[np.argmax(predicted_vector)]"
   ]
  },
  {
   "cell_type": "markdown",
   "metadata": {},
   "source": [
    "---\n",
    "<a id='step5'></a>\n",
    "## Step 5: Create a CNN to Classify Dog Breeds (using Transfer Learning)\n",
    "\n",
    "You will now use transfer learning to create a CNN that can identify dog breed from images.  Your CNN must attain at least 60% accuracy on the test set.\n",
    "\n",
    "In Step 4, we used transfer learning to create a CNN using VGG-16 bottleneck features.  In this section, you must use the bottleneck features from a different pre-trained model.  To make things easier for you, we have pre-computed the features for all of the networks that are currently available in Keras:\n",
    "- [VGG-19](https://s3-us-west-1.amazonaws.com/udacity-aind/dog-project/DogVGG19Data.npz) bottleneck features\n",
    "- [ResNet-50](https://s3-us-west-1.amazonaws.com/udacity-aind/dog-project/DogResnet50Data.npz) bottleneck features\n",
    "- [Inception](https://s3-us-west-1.amazonaws.com/udacity-aind/dog-project/DogInceptionV3Data.npz) bottleneck features\n",
    "- [Xception](https://s3-us-west-1.amazonaws.com/udacity-aind/dog-project/DogXceptionData.npz) bottleneck features\n",
    "\n",
    "The files are encoded as such:\n",
    "\n",
    "    Dog{network}Data.npz\n",
    "    \n",
    "where `{network}`, in the above filename, can be one of `VGG19`, `Resnet50`, `InceptionV3`, or `Xception`.  Pick one of the above architectures, download the corresponding bottleneck features, and store the downloaded file in the `bottleneck_features/` folder in the repository.\n",
    "\n",
    "### (IMPLEMENTATION) Obtain Bottleneck Features\n",
    "\n",
    "In the code block below, extract the bottleneck features corresponding to the train, test, and validation sets by running the following:\n",
    "\n",
    "    bottleneck_features = np.load('bottleneck_features/Dog{network}Data.npz')\n",
    "    train_{network} = bottleneck_features['train']\n",
    "    valid_{network} = bottleneck_features['valid']\n",
    "    test_{network} = bottleneck_features['test']"
   ]
  },
  {
   "cell_type": "code",
   "execution_count": null,
   "metadata": {
    "collapsed": true
   },
   "outputs": [],
   "source": [
    "### TODO: Obtain bottleneck features from another pre-trained CNN."
   ]
  },
  {
   "cell_type": "markdown",
   "metadata": {},
   "source": [
    "### (IMPLEMENTATION) Model Architecture\n",
    "\n",
    "Create a CNN to classify dog breed.  At the end of your code cell block, summarize the layers of your model by executing the line:\n",
    "    \n",
    "        <your model's name>.summary()\n",
    "   \n",
    "__Question 5:__ Outline the steps you took to get to your final CNN architecture and your reasoning at each step.  Describe why you think the architecture is suitable for the current problem.\n",
    "\n",
    "__Answer:__ \n",
    "\n"
   ]
  },
  {
   "cell_type": "code",
   "execution_count": null,
   "metadata": {
    "collapsed": true
   },
   "outputs": [],
   "source": [
    "### TODO: Define your architecture."
   ]
  },
  {
   "cell_type": "markdown",
   "metadata": {},
   "source": [
    "### (IMPLEMENTATION) Compile the Model"
   ]
  },
  {
   "cell_type": "code",
   "execution_count": null,
   "metadata": {
    "collapsed": true
   },
   "outputs": [],
   "source": [
    "### TODO: Compile the model."
   ]
  },
  {
   "cell_type": "markdown",
   "metadata": {},
   "source": [
    "### (IMPLEMENTATION) Train the Model\n",
    "\n",
    "Train your model in the code cell below.  Use model checkpointing to save the model that attains the best validation loss.  \n",
    "\n",
    "You are welcome to [augment the training data](https://blog.keras.io/building-powerful-image-classification-models-using-very-little-data.html), but this is not a requirement. "
   ]
  },
  {
   "cell_type": "code",
   "execution_count": null,
   "metadata": {
    "collapsed": true
   },
   "outputs": [],
   "source": [
    "### TODO: Train the model."
   ]
  },
  {
   "cell_type": "markdown",
   "metadata": {},
   "source": [
    "### (IMPLEMENTATION) Load the Model with the Best Validation Loss"
   ]
  },
  {
   "cell_type": "code",
   "execution_count": null,
   "metadata": {
    "collapsed": true
   },
   "outputs": [],
   "source": [
    "### TODO: Load the model weights with the best validation loss."
   ]
  },
  {
   "cell_type": "markdown",
   "metadata": {},
   "source": [
    "### (IMPLEMENTATION) Test the Model\n",
    "\n",
    "Try out your model on the test dataset of dog images. Ensure that your test accuracy is greater than 60%."
   ]
  },
  {
   "cell_type": "code",
   "execution_count": null,
   "metadata": {
    "collapsed": true
   },
   "outputs": [],
   "source": [
    "### TODO: Calculate classification accuracy on the test dataset."
   ]
  },
  {
   "cell_type": "markdown",
   "metadata": {},
   "source": [
    "### (IMPLEMENTATION) Predict Dog Breed with the Model\n",
    "\n",
    "Write a function that takes an image path as input and returns the dog breed (`Affenpinscher`, `Afghan_hound`, etc) that is predicted by your model.  \n",
    "\n",
    "Similar to the analogous function in Step 5, your function should have three steps:\n",
    "1. Extract the bottleneck features corresponding to the chosen CNN model.\n",
    "2. Supply the bottleneck features as input to the model to return the predicted vector.  Note that the argmax of this prediction vector gives the index of the predicted dog breed.\n",
    "3. Use the `dog_names` array defined in Step 0 of this notebook to return the corresponding breed.\n",
    "\n",
    "The functions to extract the bottleneck features can be found in `extract_bottleneck_features.py`, and they have been imported in an earlier code cell.  To obtain the bottleneck features corresponding to your chosen CNN architecture, you need to use the function\n",
    "\n",
    "    extract_{network}\n",
    "    \n",
    "where `{network}`, in the above filename, should be one of `VGG19`, `Resnet50`, `InceptionV3`, or `Xception`."
   ]
  },
  {
   "cell_type": "code",
   "execution_count": null,
   "metadata": {
    "collapsed": true
   },
   "outputs": [],
   "source": [
    "### TODO: Write a function that takes a path to an image as input\n",
    "### and returns the dog breed that is predicted by the model."
   ]
  },
  {
   "cell_type": "markdown",
   "metadata": {},
   "source": [
    "---\n",
    "<a id='step6'></a>\n",
    "## Step 6: Write your Algorithm\n",
    "\n",
    "Write an algorithm that accepts a file path to an image and first determines whether the image contains a human, dog, or neither.  Then,\n",
    "- if a __dog__ is detected in the image, return the predicted breed.\n",
    "- if a __human__ is detected in the image, return the resembling dog breed.\n",
    "- if __neither__ is detected in the image, provide output that indicates an error.\n",
    "\n",
    "You are welcome to write your own functions for detecting humans and dogs in images, but feel free to use the `face_detector` and `dog_detector` functions developed above.  You are __required__ to use your CNN from Step 5 to predict dog breed.  \n",
    "\n",
    "Some sample output for our algorithm is provided below, but feel free to design your own user experience!\n",
    "\n",
    "![Sample Human Output](images/sample_human_output.png)\n",
    "\n",
    "\n",
    "### (IMPLEMENTATION) Write your Algorithm"
   ]
  },
  {
   "cell_type": "code",
   "execution_count": null,
   "metadata": {
    "collapsed": true
   },
   "outputs": [],
   "source": [
    "### TODO: Write your algorithm.\n",
    "### Feel free to use as many code cells as needed."
   ]
  },
  {
   "cell_type": "markdown",
   "metadata": {},
   "source": [
    "---\n",
    "<a id='step7'></a>\n",
    "## Step 7: Test Your Algorithm\n",
    "\n",
    "In this section, you will take your new algorithm for a spin!  What kind of dog does the algorithm think that __you__ look like?  If you have a dog, does it predict your dog's breed accurately?  If you have a cat, does it mistakenly think that your cat is a dog?\n",
    "\n",
    "### (IMPLEMENTATION) Test Your Algorithm on Sample Images!\n",
    "\n",
    "Test your algorithm at least six images on your computer.  Feel free to use any images you like.  Use at least two human and two dog images.  \n",
    "\n",
    "__Question 6:__ Is the output better than you expected :) ?  Or worse :( ?  Provide at least three possible points of improvement for your algorithm.\n",
    "\n",
    "__Answer:__ "
   ]
  },
  {
   "cell_type": "code",
   "execution_count": null,
   "metadata": {
    "collapsed": true
   },
   "outputs": [],
   "source": [
    "## TODO: Execute your algorithm from Step 6 on\n",
    "## at least 6 images on your computer.\n",
    "## Feel free to use as many code cells as needed."
   ]
  }
 ],
 "metadata": {
  "anaconda-cloud": {},
  "kernelspec": {
   "display_name": "Python 3",
   "language": "python",
   "name": "python3"
  },
  "language_info": {
   "codemirror_mode": {
    "name": "ipython",
    "version": 3
   },
   "file_extension": ".py",
   "mimetype": "text/x-python",
   "name": "python",
   "nbconvert_exporter": "python",
   "pygments_lexer": "ipython3",
   "version": "3.5.4"
  }
 },
 "nbformat": 4,
 "nbformat_minor": 1
}
